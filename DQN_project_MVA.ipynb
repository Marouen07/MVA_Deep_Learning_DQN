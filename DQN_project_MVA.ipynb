{
  "nbformat": 4,
  "nbformat_minor": 0,
  "metadata": {
    "kernelspec": {
      "name": "python3",
      "display_name": "Python 3"
    },
    "language_info": {
      "codemirror_mode": {
        "name": "ipython",
        "version": 3
      },
      "file_extension": ".py",
      "mimetype": "text/x-python",
      "name": "python",
      "nbconvert_exporter": "python",
      "pygments_lexer": "ipython3",
      "version": "3.5.7"
    },
    "colab": {
      "name": "DQN_project_MVA.ipynb",
      "provenance": [],
      "collapsed_sections": [],
      "include_colab_link": true
    },
    "accelerator": "GPU"
  },
  "cells": [
    {
      "cell_type": "markdown",
      "metadata": {
        "id": "view-in-github",
        "colab_type": "text"
      },
      "source": [
        "<a href=\"https://colab.research.google.com/github/Marouen07/MVA_Deep_Learning_DQN/blob/master/DQN_project_MVA.ipynb\" target=\"_parent\"><img src=\"https://colab.research.google.com/assets/colab-badge.svg\" alt=\"Open In Colab\"/></a>"
      ]
    },
    {
      "cell_type": "markdown",
      "metadata": {
        "id": "oz0xabi4jL1l",
        "colab_type": "text"
      },
      "source": [
        "**You may need to install [OpenCV](https://pypi.python.org/pypi/opencv-python) and [scikit-video](http://www.scikit-video.org/stable/).**"
      ]
    },
    {
      "cell_type": "code",
      "metadata": {
        "id": "I6xs1NuijX0G",
        "colab_type": "code",
        "colab": {}
      },
      "source": [
        "pip install sk-video"
      ],
      "execution_count": 0,
      "outputs": []
    },
    {
      "cell_type": "code",
      "metadata": {
        "id": "92XtGEdHjL1n",
        "colab_type": "code",
        "colab": {}
      },
      "source": [
        "import keras\n",
        "import numpy as np\n",
        "import io\n",
        "import base64\n",
        "from IPython.display import HTML\n",
        "import skvideo.io\n",
        "import cv2\n",
        "import json\n",
        "from keras.models import Sequential,model_from_json\n",
        "from keras.layers.core import Dense\n",
        "from keras.optimizers import sgd\n",
        "from keras.layers import Conv2D, MaxPooling2D, Activation, AveragePooling2D,Reshape,BatchNormalization\n",
        "import random"
      ],
      "execution_count": 0,
      "outputs": []
    },
    {
      "cell_type": "markdown",
      "metadata": {
        "id": "dkgaWAJ8jL1q",
        "colab_type": "text"
      },
      "source": [
        "# MiniProject on Deep Reinforcement Learning"
      ]
    },
    {
      "cell_type": "markdown",
      "metadata": {
        "id": "WtHpy9y9jL1q",
        "colab_type": "text"
      },
      "source": [
        "__Notations__: $E_p$ is the expectation under probability $p$. Please justify each of your answer and widely comment your code."
      ]
    },
    {
      "cell_type": "markdown",
      "metadata": {
        "id": "VO8EDKDyjL1r",
        "colab_type": "text"
      },
      "source": [
        "# Context"
      ]
    },
    {
      "cell_type": "markdown",
      "metadata": {
        "id": "S0WBVMSFjL1r",
        "colab_type": "text"
      },
      "source": [
        "In a reinforcement learning algorithm, we modelize each step $t$ as an action $a_t$ obtained from a state $s_t$, i.e. $\\{(a_{t},s_{t})_{t\\leq T}\\}$ having the Markov property. We consider a discount factor $\\gamma \\in [0,1]$ that ensures convergence. The goal is to find among all the policies $\\pi$, one that maximizes the expected reward:\n",
        "\n",
        "\\begin{equation*}\n",
        "R(\\pi)=\\sum_{t\\leq T}E_{p^{\\pi}}[\\gamma^t r(s_{t},a_{t})] \\> ,\n",
        "\\end{equation*}\n",
        "\n",
        "where: \n",
        "\\begin{equation*}p^{\\pi}(a_{0},a_{1},s_{1},...,a_{T},s_{T})=p(a_{0})\\prod_{t=1}^{T}\\pi(a_{t}|s_{t})p(s_{t+1}|s_{t},a_{t}) \\> .\n",
        "\\end{equation*}\n",
        "\n",
        "We note the $Q$-function:\n",
        "\n",
        "\\begin{equation*}Q^\\pi(s,a)=E_{p^{\\pi}}[\\sum_{t\\leq T}\\gamma^{t}r(s_{t},a_{t})|s_{0}=s,a_{0}=a] \\> .\n",
        "\\end{equation*}\n",
        "\n",
        "Thus, the optimal Q function is:\n",
        "\\begin{equation*}\n",
        "Q^*(s,a)=\\max_{\\pi}Q^\\pi(s,a) \\> .\n",
        "\\end{equation*}\n",
        "\n",
        "In this project, we will apply the deep reinforcement learning techniques to a simple game: an agent will have to learn from scratch a policy that will permit it maximizing a reward."
      ]
    },
    {
      "cell_type": "markdown",
      "metadata": {
        "id": "PVdEaIcXjL1s",
        "colab_type": "text"
      },
      "source": [
        "## The environment, the agent and the game"
      ]
    },
    {
      "cell_type": "markdown",
      "metadata": {
        "id": "yazF440_jL1t",
        "colab_type": "text"
      },
      "source": [
        "### The environment"
      ]
    },
    {
      "cell_type": "markdown",
      "metadata": {
        "id": "0Yk6CTiPjL1t",
        "colab_type": "text"
      },
      "source": [
        "```Environment``` is an abstract class that represents the states, rewards, and actions to obtain the new state."
      ]
    },
    {
      "cell_type": "code",
      "metadata": {
        "id": "ZXT49LKHjL1u",
        "colab_type": "code",
        "colab": {}
      },
      "source": [
        "class Environment(object):\n",
        "    def __init__(self):\n",
        "        pass\n",
        "\n",
        "    def act(self, act):\n",
        "        \"\"\"\n",
        "        One can act on the environment and obtain its reaction:\n",
        "        - the new state\n",
        "        - the reward of the new state\n",
        "        - should we continue the game?\n",
        "\n",
        "        :return: state, reward, game_over\n",
        "        \"\"\"\n",
        "        pass\n",
        "\n",
        "\n",
        "    def reset(self):\n",
        "        \"\"\"\n",
        "        Reinitialize the environment to a random state and returns\n",
        "        the original state\n",
        "\n",
        "        :return: state\n",
        "        \"\"\"\n",
        "        pass\n",
        "    \n",
        "    def draw(self):\n",
        "        \"\"\"\n",
        "        Visualize in the console or graphically the current state\n",
        "        \"\"\"\n",
        "        pass"
      ],
      "execution_count": 0,
      "outputs": []
    },
    {
      "cell_type": "markdown",
      "metadata": {
        "id": "L2d70ZKPjL1v",
        "colab_type": "text"
      },
      "source": [
        "The method ```act``` allows to act on the environment at a given state $s_t$ (stored internally), via action $a_t$. The method will return the new state $s_{t+1}$, the reward $r(s_{t},a_{t})$ and determines if $t\\leq T$ (*game_over*).\n",
        "\n",
        "The method ```reset``` simply reinitializes the environment to a random state $s_0$.\n",
        "\n",
        "The method ```draw``` displays the current state $s_t$ (this is useful to check the behavior of the Agent).\n",
        "\n",
        "We modelize $s_t$ as a tensor, while $a_t$ is an integer."
      ]
    },
    {
      "cell_type": "markdown",
      "metadata": {
        "id": "3os_XbjajL1w",
        "colab_type": "text"
      },
      "source": [
        "### The Agent"
      ]
    },
    {
      "cell_type": "markdown",
      "metadata": {
        "id": "XjALfUrfjL1w",
        "colab_type": "text"
      },
      "source": [
        "The goal of the ```Agent``` is to interact with the ```Environment``` by proposing actions $a_t$ obtained from a given state $s_t$ to attempt to maximize its __reward__ $r(s_t,a_t)$. We propose the following abstract class:"
      ]
    },
    {
      "cell_type": "code",
      "metadata": {
        "id": "9Ldb2aEmjL1x",
        "colab_type": "code",
        "colab": {}
      },
      "source": [
        "class Agent(object):\n",
        "    def __init__(self, epsilon=0.1, n_action=4):\n",
        "        self.epsilon = epsilon\n",
        "        self.n_action = n_action\n",
        "    \n",
        "    def set_epsilon(self,e):\n",
        "        self.epsilon = e\n",
        "\n",
        "    def act(self,s,train=True):\n",
        "        \"\"\" This function should return the next action to do:\n",
        "        an integer between 0 and 4 (not included) with a random exploration of epsilon\"\"\"\n",
        "        if train:\n",
        "            if np.random.rand() <= self.epsilon:\n",
        "                a = np.random.randint(0, self.n_action, size=1)[0]\n",
        "            else:\n",
        "                a = self.learned_act(s)\n",
        "        else: # in some cases, this can improve the performance.. remove it if poor performances\n",
        "            a = self.learned_act(s)\n",
        "\n",
        "        return a\n",
        "\n",
        "    def learned_act(self,s):\n",
        "        \"\"\" Act via the policy of the agent, from a given state s\n",
        "        it proposes an action a\"\"\"\n",
        "        pass\n",
        "\n",
        "    def reinforce(self, s, n_s, a, r, game_over_):\n",
        "        \"\"\" This function is the core of the learning algorithm. \n",
        "        It takes as an input the current state s_, the next state n_s_\n",
        "        the action a_ used to move from s_ to n_s_ and the reward r_.\n",
        "        \n",
        "        Its goal is to learn a policy.\n",
        "        \"\"\"\n",
        "        pass\n",
        "\n",
        "    def save(self):\n",
        "        \"\"\" This function returns basic stats if applicable: the\n",
        "        loss and/or the model\"\"\"\n",
        "        pass\n",
        "\n",
        "    def load(self):\n",
        "        \"\"\" This function allows to restore a model\"\"\"\n",
        "        pass"
      ],
      "execution_count": 0,
      "outputs": []
    },
    {
      "cell_type": "markdown",
      "metadata": {
        "id": "YoHx1k_2jL1z",
        "colab_type": "text"
      },
      "source": [
        "***\n",
        "__Question 1__:\n",
        "Explain the function act. Why is ```epsilon``` essential?"
      ]
    },
    {
      "cell_type": "markdown",
      "metadata": {
        "id": "w6JRX4X8jL1z",
        "colab_type": "text"
      },
      "source": [
        "The function act as defined  is called epsilon-greedy policy \\\n",
        "\n",
        "$\\epsilon$-greedy policy:\n",
        "$$\n",
        "\\pi(s) = \\begin{cases}\n",
        "\\max_a Q(s,a) & \\text{w.p.} 1- \\epsilon\\\\\n",
        "\\text{random action} & \\text{w.p.} \\epsilon\n",
        "\\end{cases}\n",
        "$$\n",
        "Epsilon Here is essential in order to make the agent do some exploration : if we simply act greedily the agent would have no reason to do any exploration if it causes a lower reward although exploration is essential in order to discover the environnement and learn an optimal policy. \n",
        "\n",
        "\n"
      ]
    },
    {
      "cell_type": "markdown",
      "metadata": {
        "id": "mnBeFTgbjL10",
        "colab_type": "text"
      },
      "source": [
        "***\n",
        "### The Game"
      ]
    },
    {
      "cell_type": "markdown",
      "metadata": {
        "id": "N98dMC-0jL11",
        "colab_type": "text"
      },
      "source": [
        "The ```Agent``` and the ```Environment``` work in an interlaced way as in the following (take some time to understand this code as it is the core of the project)\n",
        "\n",
        "```python\n",
        "\n",
        "epoch = 300\n",
        "env = Environment()\n",
        "agent = Agent()\n",
        "\n",
        "\n",
        "# Number of won games\n",
        "score = 0\n",
        "loss = 0\n",
        "\n",
        "\n",
        "for e in range(epoch):\n",
        "    # At each epoch, we restart to a fresh game and get the initial state\n",
        "    state = env.reset()\n",
        "    # This assumes that the games will end\n",
        "    game_over = False\n",
        "\n",
        "    win = 0\n",
        "    lose = 0\n",
        "    \n",
        "    while not game_over:\n",
        "        # The agent performs an action\n",
        "        action = agent.act(state)\n",
        "\n",
        "        # Apply an action to the environment, get the next state, the reward\n",
        "        # and if the games end\n",
        "        prev_state = state\n",
        "        state, reward, game_over = env.act(action)\n",
        "\n",
        "        # Update the counters\n",
        "        if reward > 0:\n",
        "            win = win + reward\n",
        "        if reward < 0:\n",
        "            lose = lose -reward\n",
        "\n",
        "        # Apply the reinforcement strategy\n",
        "        loss = agent.reinforce(prev_state, state,  action, reward, game_over)\n",
        "\n",
        "    # Save as a mp4\n",
        "    if e % 10 == 0:\n",
        "        env.draw(e)\n",
        "\n",
        "    # Update stats\n",
        "    score += win-lose\n",
        "\n",
        "    print(\"Epoch {:03d}/{:03d} | Loss {:.4f} | Win/lose count {}/{} ({})\"\n",
        "          .format(e, epoch, loss, win, lose, win-lose))\n",
        "    agent.save()\n",
        "```"
      ]
    },
    {
      "cell_type": "markdown",
      "metadata": {
        "id": "cJRRFI9OjL11",
        "colab_type": "text"
      },
      "source": [
        "# The game, *eat cheese*"
      ]
    },
    {
      "cell_type": "markdown",
      "metadata": {
        "id": "9mpx9cHojL12",
        "colab_type": "text"
      },
      "source": [
        "A rat runs on an island and tries to eat as much as possible. The island is subdivided into $N\\times N$ cells, in which there are cheese (+0.5) and poisonous cells (-1). The rat has a visibility of 2 cells (thus it can see $5^2$ cells). The rat is given a time $T$ to accumulate as much food as possible. It can perform 4 actions: going up, down, left, right. \n",
        "\n",
        "The goal is to code an agent to solve this task that will learn by trial and error. We propose the following environment:"
      ]
    },
    {
      "cell_type": "code",
      "metadata": {
        "id": "pedGltP4jL12",
        "colab_type": "code",
        "colab": {}
      },
      "source": [
        "class Environment(object):\n",
        "    def __init__(self, grid_size=10, max_time=500, temperature=0.1):\n",
        "        grid_size = grid_size+4\n",
        "        self.grid_size = grid_size\n",
        "        self.max_time = max_time\n",
        "        self.temperature = temperature\n",
        "\n",
        "        #board on which one plays\n",
        "        self.board = np.zeros((grid_size,grid_size))\n",
        "        self.position = np.zeros((grid_size,grid_size))\n",
        "\n",
        "        # coordinate of the cat\n",
        "        self.x = 0\n",
        "        self.y = 1\n",
        "\n",
        "        # self time\n",
        "        self.t = 0\n",
        "\n",
        "        self.scale=16\n",
        "\n",
        "        self.to_draw = np.zeros((max_time+2, grid_size*self.scale, grid_size*self.scale, 3))\n",
        "\n",
        "\n",
        "    def draw(self,e):\n",
        "        skvideo.io.vwrite(str(e) + '.mp4', self.to_draw)\n",
        "\n",
        "    def get_frame(self,t):\n",
        "        b = np.zeros((self.grid_size,self.grid_size,3))+128\n",
        "        b[self.board>0,0] = 256\n",
        "        b[self.board < 0, 2] = 256\n",
        "        b[self.x,self.y,:]=256\n",
        "        b[-2:,:,:]=0\n",
        "        b[:,-2:,:]=0\n",
        "        b[:2,:,:]=0\n",
        "        b[:,:2,:]=0\n",
        "        \n",
        "        b =  cv2.resize(b, None, fx=self.scale, fy=self.scale, interpolation=cv2.INTER_NEAREST)\n",
        "\n",
        "        self.to_draw[t,:,:,:]=b\n",
        "\n",
        "\n",
        "    def act(self, action):\n",
        "        \"\"\"This function returns the new state, reward and decides if the\n",
        "        game ends.\"\"\"\n",
        "\n",
        "        self.get_frame(int(self.t))\n",
        "\n",
        "        self.position = np.zeros((self.grid_size, self.grid_size))\n",
        "\n",
        "        self.position[0:2,:]= -1\n",
        "        self.position[:,0:2] = -1\n",
        "        self.position[-2:, :] = -1\n",
        "        self.position[-2:, :] = -1\n",
        "\n",
        "        self.position[self.x, self.y] = 1\n",
        "        if action == 0:\n",
        "            if self.x == self.grid_size-3:\n",
        "                self.x = self.x-1\n",
        "            else:\n",
        "                self.x = self.x + 1\n",
        "        elif action == 1:\n",
        "            if self.x == 2:\n",
        "                self.x = self.x+1\n",
        "            else:\n",
        "                self.x = self.x-1\n",
        "        elif action == 2:\n",
        "            if self.y == self.grid_size - 3:\n",
        "                self.y = self.y - 1\n",
        "            else:\n",
        "                self.y = self.y + 1\n",
        "        elif action == 3:\n",
        "            if self.y == 2:\n",
        "                self.y = self.y + 1\n",
        "            else:\n",
        "                self.y = self.y - 1\n",
        "        else:\n",
        "            RuntimeError('Error: action not recognized')\n",
        "\n",
        "        self.t = self.t + 1\n",
        "        reward = self.board[self.x, self.y]\n",
        "        self.board[self.x, self.y] = 0\n",
        "        game_over = self.t > self.max_time\n",
        "        state = np.concatenate((self.board.reshape(self.grid_size, self.grid_size,1),\n",
        "                        self.position.reshape(self.grid_size, self.grid_size,1)),axis=2)\n",
        "        state = state[self.x-2:self.x+3,self.y-2:self.y+3,:]\n",
        "\n",
        "        return state, reward, game_over\n",
        "\n",
        "    def reset(self):\n",
        "        \"\"\"This function resets the game and returns the initial state\"\"\"\n",
        "\n",
        "        self.x = np.random.randint(3, self.grid_size-3, size=1)[0]\n",
        "        self.y = np.random.randint(3, self.grid_size-3, size=1)[0]\n",
        "\n",
        "\n",
        "        bonus = 0.5*np.random.binomial(1,self.temperature,size=self.grid_size**2)\n",
        "        bonus = bonus.reshape(self.grid_size,self.grid_size)\n",
        "\n",
        "        malus = -1.0*np.random.binomial(1,self.temperature,size=self.grid_size**2)\n",
        "        malus = malus.reshape(self.grid_size, self.grid_size)\n",
        "\n",
        "        self.to_draw = np.zeros((self.max_time+2, self.grid_size*self.scale, self.grid_size*self.scale, 3))\n",
        "\n",
        "\n",
        "        malus[bonus>0]=0\n",
        "\n",
        "        self.board = bonus + malus\n",
        "\n",
        "        self.position = np.zeros((self.grid_size, self.grid_size))\n",
        "        self.position[0:2,:]= -1\n",
        "        self.position[:,0:2] = -1\n",
        "        self.position[-2:, :] = -1\n",
        "        self.position[-2:, :] = -1\n",
        "        self.board[self.x,self.y] = 0\n",
        "        self.t = 0\n",
        "\n",
        "        state = np.concatenate((\n",
        "                               self.board.reshape(self.grid_size, self.grid_size,1),\n",
        "                        self.position.reshape(self.grid_size, self.grid_size,1)),axis=2)\n",
        "\n",
        "        state = state[self.x - 2:self.x + 3, self.y - 2:self.y + 3, :]\n",
        "        return state"
      ],
      "execution_count": 0,
      "outputs": []
    },
    {
      "cell_type": "markdown",
      "metadata": {
        "id": "PKQ4ysf2jL14",
        "colab_type": "text"
      },
      "source": [
        "The following elements are important because they correspond to the hyper parameters for this project:"
      ]
    },
    {
      "cell_type": "code",
      "metadata": {
        "id": "NmeR-LL2jL14",
        "colab_type": "code",
        "colab": {}
      },
      "source": [
        "# parameters\n",
        "size = 13\n",
        "T=200\n",
        "temperature=0.3\n",
        "epochs_train=50 # set small when debugging\n",
        "epochs_test=10 # set small when debugging\n",
        "\n",
        "# display videos\n",
        "def display_videos(name):\n",
        "    video = io.open(name, 'r+b').read()\n",
        "    encoded = base64.b64encode(video)\n",
        "    return '''<video alt=\"test\" controls>\n",
        "                <source src=\"data:video/mp4;base64,{0}\" type=\"video/mp4\" />\n",
        "             </video>'''.format(encoded.decode('ascii'))"
      ],
      "execution_count": 0,
      "outputs": []
    },
    {
      "cell_type": "markdown",
      "metadata": {
        "id": "7Kya7aTrjL17",
        "colab_type": "text"
      },
      "source": [
        "__Question 2__ Explain the use of the arrays ```position``` and ```board```."
      ]
    },
    {
      "cell_type": "markdown",
      "metadata": {
        "id": "czKGu6fGjL17",
        "colab_type": "text"
      },
      "source": [
        "The array ```board``` defines the reward associated to moving to every cell. The array ```position``` defines where the agent is on the board. It has values -1 on thee extra boarders where the agent can not go, 0 where it can go and 1 on its current position.\n"
      ]
    },
    {
      "cell_type": "markdown",
      "metadata": {
        "id": "I1ZSVVsrjL18",
        "colab_type": "text"
      },
      "source": [
        "## Random Agent"
      ]
    },
    {
      "cell_type": "markdown",
      "metadata": {
        "id": "9U7kAFhzjL18",
        "colab_type": "text"
      },
      "source": [
        "***\n",
        "__Question 3__ Implement a random Agent (only ```learned_act``` needs to be implemented):"
      ]
    },
    {
      "cell_type": "code",
      "metadata": {
        "id": "ZbgeF4pVjL19",
        "colab_type": "code",
        "colab": {}
      },
      "source": [
        "class RandomAgent(Agent):\n",
        "    def __init__(self):\n",
        "        super(RandomAgent, self).__init__()\n",
        "        \n",
        "    def learned_act(self, s):\n",
        "        return np.random.randint(0,self.n_action)"
      ],
      "execution_count": 0,
      "outputs": []
    },
    {
      "cell_type": "markdown",
      "metadata": {
        "id": "6Frd_qb-jL1-",
        "colab_type": "text"
      },
      "source": [
        "***\n",
        "***\n",
        "__Question 4__ Visualize the game moves. You need to fill in the following function for the evaluation:"
      ]
    },
    {
      "cell_type": "code",
      "metadata": {
        "id": "FiWDROLnjL1_",
        "colab_type": "code",
        "colab": {}
      },
      "source": [
        "def test(agent,env,epochs,prefix=''):\n",
        "    # Number of won games\n",
        "    score = 0\n",
        "        \n",
        "    for e in range(epochs):\n",
        "        state=env.reset()\n",
        "        done=False \n",
        "        win=0\n",
        "        lose=0\n",
        "        while not done:\n",
        "          state, reward, done=env.act(agent.learned_act(state))\n",
        "          if reward > 0:\n",
        "            win = win + reward\n",
        "          if reward < 0:\n",
        "            lose = lose -reward\n",
        "        # Save as a mp4\n",
        "        env.draw(prefix+str(e))\n",
        "\n",
        "        # Update stats\n",
        "        score = score + win-lose\n",
        "\n",
        "        print(\"Win/lose count {}/{}. Average score ({})\"\n",
        "              .format(win, lose, score/(1+e)))\n",
        "    print('Final score: '+str(score/epochs))"
      ],
      "execution_count": 0,
      "outputs": []
    },
    {
      "cell_type": "code",
      "metadata": {
        "id": "iNtyZ-V6jL2B",
        "colab_type": "code",
        "outputId": "ac3c55cc-b61c-48a5-d532-84ab4ca6c0c4",
        "colab": {
          "base_uri": "https://localhost:8080/",
          "height": 478
        }
      },
      "source": [
        "# Initialize the game\n",
        "env = Environment(grid_size=size, max_time=T,temperature=temperature)\n",
        "\n",
        "# Initialize the agent!\n",
        "random_agent = RandomAgent()\n",
        "\n",
        "test(random_agent,env,epochs_test,prefix='random')\n",
        "HTML(display_videos('random0.mp4'))"
      ],
      "execution_count": 9,
      "outputs": [
        {
          "output_type": "stream",
          "text": [
            "Win/lose count 15.5/12.0. Average score (3.5)\n",
            "Win/lose count 14.0/12.0. Average score (2.75)\n",
            "Win/lose count 5.5/7.0. Average score (1.3333333333333333)\n",
            "Win/lose count 12.5/12.0. Average score (1.125)\n",
            "Win/lose count 9.5/16.0. Average score (-0.4)\n",
            "Win/lose count 6.0/8.0. Average score (-0.6666666666666666)\n",
            "Win/lose count 12.0/8.0. Average score (0.0)\n",
            "Win/lose count 9.0/5.0. Average score (0.5)\n",
            "Win/lose count 5.5/8.0. Average score (0.16666666666666666)\n",
            "Win/lose count 9.5/14.0. Average score (-0.3)\n",
            "Final score: -0.3\n"
          ],
          "name": "stdout"
        },
        {
          "output_type": "execute_result",
          "data": {
            "text/html": [
              "<video alt=\"test\" controls>\n",
              "                <source src=\"data:video/mp4;base64,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\" type=\"video/mp4\" />\n",
              "             </video>"
            ],
            "text/plain": [
              "<IPython.core.display.HTML object>"
            ]
          },
          "metadata": {
            "tags": []
          },
          "execution_count": 9
        }
      ]
    },
    {
      "cell_type": "markdown",
      "metadata": {
        "id": "6XQ33m4jjL2D",
        "colab_type": "text"
      },
      "source": [
        "***\n",
        "## DQN"
      ]
    },
    {
      "cell_type": "markdown",
      "metadata": {
        "id": "1_2dyeiPjL2E",
        "colab_type": "text"
      },
      "source": [
        "Let us assume here that $T=\\infty$.\n",
        "\n",
        "***\n",
        "__Question 5__ Let $\\pi$ be a policy, show that:\n",
        "\n",
        "\\begin{equation*}\n",
        "Q^{\\pi}(s,a)=E_{(s',a')\\sim p(.|s,a)}[r(s,a)+\\gamma Q^{\\pi}(s',a')]\n",
        "\\end{equation*}\n",
        "\n",
        "Then, show that for the optimal policy $\\pi^*$ (we assume its existence), the following holds: \n",
        "\n",
        "\\begin{equation*}\n",
        "Q^{*}(s,a)=E_{s'\\sim \\pi^*(.|s,a)}[r(s,a)+\\gamma\\max_{a'}Q^{*}(s',a')].\n",
        "\\end{equation*}\n",
        "Finally, deduce that a plausible objective is:\n",
        "\n",
        "\\begin{equation*}\n",
        "\\mathcal{L}(\\theta)=E_{s' \\sim \\pi^*(.|s,a)}\\Vert r+\\gamma\\max_{a'}Q(s',a',\\theta)-Q(s,a,\\theta)\\Vert^{2}.\n",
        "\\end{equation*}\n",
        "\n",
        "\n"
      ]
    },
    {
      "cell_type": "markdown",
      "metadata": {
        "id": "ApYvfEuujL2E",
        "colab_type": "text"
      },
      "source": [
        "The two equations are The bellman equation and the bellman optimal equation \n",
        "\\begin{align*}\n",
        "Q^\\pi(s,a)&=E_{p^{\\pi}}[\\sum_{0\\leq t}\\gamma^{t}r(s_{t},a_{t})|s_{0}=s,a_{0}=a,a_t=\\pi(s_t)].\\\\\n",
        "&=E_{p^{\\pi}}[r(s,a)+\\gamma \\sum_{1\\leq t}\\gamma^{t-1}r(s_{t},a_{t})]|s_{0}=s,a_{0}=a,a_t=\\pi(s_t)] \\\\\n",
        "&=E_{p^{\\pi}}[r(s,a)+\\gamma \\sum_{0\\leq t}\\gamma^{t}r(s_{t+1},a_{t+1})]|s_{0}=s,a_{0}=a,a_t=\\pi(s_t)] \\\\\n",
        "&=E_{p^{\\pi}}[r(s,a)+\\gamma \\sum_{s',a'}\\left( p(s1=s',a1=a') E[ \\sum_{0\\leq t}\\gamma^{t}r(s_{t+1},a_{t+1})]|s_{1}=s',a_{1}=a',a_t=\\pi(s_t)] \\right)|s_{0}=s,a_{0}=a,a_t=\\pi(s_t)] \\\\\n",
        "&=r(s,a)+\\gamma \\sum_{s',a'}\\left( p(s_1=s',a_1=a'|s_{0}=s,a_{0}=a) E[ \\sum_{0\\leq t}\\gamma^{t}r(s_{t+1},a_{t+1})]|s_{1}=s',a_{1}=a',a_t=\\pi(s_t)] \\right) \\\\\n",
        "&=r(s,a)+\\gamma \\sum_{s',a'} p(s_1=s',a_1=a'|s_{0}=s,a_{0}=a) Q^\\pi(s',a') \\\\\n",
        "&=E_{(s',a')\\sim p(.|s,a)}[r(s,a)+\\gamma Q^{\\pi}(s',a')]\n",
        "\\end{align*}\n",
        "\n",
        "\n",
        "The second equation is obtained exactly the same way \n"
      ]
    },
    {
      "cell_type": "markdown",
      "metadata": {
        "id": "5wrmgVcZteNY",
        "colab_type": "text"
      },
      "source": [
        "\\begin{align}\n",
        "Q^{*}(s,a) &= \\max_{\\pi}E_{(s',a')\\sim p(.|s,a)}[r(s,a)+\\gamma Q^{\\pi}(s',a')] \\\\\n",
        "&= \\max_{\\pi}r(s,a) + \\gamma \\sum_{(s',a')}(p(s_{1}=s',a_{1}=a' |s_0 = s, a_0 = a )Q^{\\pi}(s',a')\\\\\n",
        "&= r(s,a) + \\gamma \\max_{\\pi} \\sum_{(s',a')}(p(s_{1}=s',a_{1}=a' |s_0 = s, a_0 = a )Q^{\\pi}(s',a') \\\\\n",
        "&= r(s,a) + \\gamma \\sum_{s'}(p(s_{1}=s'|s_0 = s, a_0 = a )\\max_{(a',\\pi')} Q^{\\pi'}(s',a') \\\\\n",
        "&= r(s,a) + \\gamma \\sum(p(s_{t+1}=s' |s_t = s, a_t = a )\\max_{a'} Q^{*}(s',a') \\\\ \n",
        "&=E_{s'\\sim \\pi^*(.|s,a)}[r(s,a)+\\gamma\\max_{a'}Q^{*}(s',a')].\n",
        "\\end{align}"
      ]
    },
    {
      "cell_type": "markdown",
      "metadata": {
        "id": "PmdqvsobOueh",
        "colab_type": "text"
      },
      "source": [
        "The proposed objective function is based on this equality, it's also known as Temporal Difference."
      ]
    },
    {
      "cell_type": "markdown",
      "metadata": {
        "id": "E1u8zDpCjL2F",
        "colab_type": "text"
      },
      "source": [
        "***\n",
        "The DQN-learning algorithm relies on these derivations to train the parameters $\\theta$ of a Deep Neural Network:\n",
        "\n",
        "1. At the state $s_t$, select the action $a_t$ with best reward using $Q_t$ and store the results;\n",
        "\n",
        "2. Obtain the new state $s_{t+1}$ from the environment $p$;\n",
        "\n",
        "3. Store $(s_t,a_t,s_{t+1})$;\n",
        "\n",
        "4. Obtain $Q_{t+1}$ by minimizing  $\\mathcal{L}$ from a recovered batch from the previously stored results.\n",
        "\n",
        "***\n",
        "__Question 6__ Implement the class ```Memory``` that stores moves (in a replay buffer) via ```remember``` and provides a ```random_access``` to these. Specify a maximum memory size to avoid side effects. You can for example use a ```list()``` and set by default ```max_memory=100```."
      ]
    },
    {
      "cell_type": "code",
      "metadata": {
        "id": "31MetAXJjL2F",
        "colab_type": "code",
        "colab": {}
      },
      "source": [
        "from collections import namedtuple\n",
        "Transition = namedtuple('Transition',\n",
        "                        ('state', 'next_state', 'action', 'reward','game_over'))\n",
        "class Memory(object):\n",
        "    def __init__(self, max_memory=100):\n",
        "        self.max_memory = max_memory\n",
        "        self.memory = list()\n",
        "\n",
        "    def remember(self, *args):\n",
        "      n=len(self.memory)\n",
        "      if n>=self.max_memory:\n",
        "        del self.memory[np.random.randint(n)]     \n",
        "      self.memory.append(Transition(*args))\n",
        "    def random_access(self,size):\n",
        "        return random.sample(self.memory, size)"
      ],
      "execution_count": 0,
      "outputs": []
    },
    {
      "cell_type": "markdown",
      "metadata": {
        "id": "HLQZ0HiOjL2H",
        "colab_type": "text"
      },
      "source": [
        "***\n",
        "The pipeline we will use for training is given below:"
      ]
    },
    {
      "cell_type": "code",
      "metadata": {
        "id": "fV7a9lHUjL2H",
        "colab_type": "code",
        "colab": {}
      },
      "source": [
        "def train(agent,env,epoch,prefix=''):\n",
        "    # Number of won games\n",
        "    score = 0\n",
        "    loss = 0\n",
        "\n",
        "    for e in range(epoch):\n",
        "        # At each epoch, we restart to a fresh game and get the initial state\n",
        "        state = env.reset()\n",
        "        # This assumes that the games will terminate\n",
        "        game_over = False\n",
        "\n",
        "        win = 0\n",
        "        lose = 0\n",
        "\n",
        "        while not game_over:\n",
        "            # The agent performs an action\n",
        "            action = agent.act(state)\n",
        "\n",
        "            # Apply an action to the environment, get the next state, the reward\n",
        "            # and if the games end\n",
        "            prev_state = state\n",
        "            state, reward, game_over = env.act(action)\n",
        "\n",
        "            # Update the counters\n",
        "            if reward > 0:\n",
        "                win = win + reward\n",
        "            if reward < 0:\n",
        "                lose = lose -reward\n",
        "\n",
        "            # Apply the reinforcement strategy\n",
        "            loss = agent.reinforce(prev_state, state,  action, reward, game_over)\n",
        "\n",
        "        # Save as a mp4\n",
        "        if e % 50 == 0:\n",
        "            env.draw(prefix+str(e))\n",
        "\n",
        "        # Update stats\n",
        "        score += win-lose\n",
        "\n",
        "        print(\"Epoch {:03d}/{:03d} | Loss {:.4f} | Win/lose count {}/{} ({})\"\n",
        "              .format(e, epoch, loss, win, lose, win-lose))\n",
        "        agent.save(name_weights=prefix+'model.h5',name_model=prefix+'model.json')"
      ],
      "execution_count": 0,
      "outputs": []
    },
    {
      "cell_type": "markdown",
      "metadata": {
        "id": "fjZNd9FbjL2J",
        "colab_type": "text"
      },
      "source": [
        "***\n",
        "__Question 7__ Implement the DQN training algorithm using a cascade of fully connected layers. You can use different learning rate, batch size or memory size parameters. In particular, the loss might oscillate while the player will start to win the games. You have to find a good criterium."
      ]
    },
    {
      "cell_type": "code",
      "metadata": {
        "id": "xuqq8kyNg4ad",
        "colab_type": "code",
        "colab": {}
      },
      "source": [
        "import torch\n",
        "import torch.nn as nn\n",
        "import torch.nn.functional as F \n",
        "from torch import optim\n",
        "#Model For Q-Function\n",
        "class Model(nn.Module):\n",
        "  def __init__(self, n_state):\n",
        "    super(Model, self).__init__()\n",
        "    self.n_state = n_state\n",
        "    self.net = nn.Sequential(\n",
        "        nn.Linear(5*5*n_state, out_features=32),\n",
        "        nn.ReLU(),\n",
        "        nn.Linear(in_features=32, out_features=4),\n",
        "    )\n",
        "  def forward(self, state):\n",
        "    x=state.view(state.size(0),-1)\n",
        "    #print(state.shape,x.shape)\n",
        "    return self.net(x)\n",
        "  def predict(self, x):\n",
        "      return self(x).max(1)[0].detach() #Detach so we don't compute gradient \n"
      ],
      "execution_count": 0,
      "outputs": []
    },
    {
      "cell_type": "code",
      "metadata": {
        "id": "ezHj6yjnjL2J",
        "colab_type": "code",
        "colab": {}
      },
      "source": [
        "class DQN(Agent):\n",
        "    def __init__(self, grid_size,  epsilon = 0.1, memory_size=100, batch_size = 16,n_state=2):\n",
        "        super(DQN, self).__init__(epsilon = epsilon)\n",
        "\n",
        "        # Discount for Q learning\n",
        "        self.discount = 0.99\n",
        "        self.grid_size = grid_size\n",
        "\n",
        "        # number of state\n",
        "        self.n_state = n_state\n",
        "\n",
        "        # Memory\n",
        "        self.memory = Memory(memory_size)\n",
        "        # Batch size when learning\n",
        "        self.batch_size = batch_size\n",
        "\n",
        "    def learned_act(self, s):\n",
        "        if len(s.shape)==3:\n",
        "          Q_s=self.model(torch.from_numpy(s).unsqueeze(0).to(device))\n",
        "          best_action=torch.argmax(Q_s[0])\n",
        "          return best_action\n",
        "        else :\n",
        "          #This will be used in The DQ mimick part \n",
        "          #We need to get the set of optimal Actions for Expert DQN\n",
        "          Q_sa=self.model(s.to(device))\n",
        "          return torch.argmax(Q_sa,dim=-1)\n",
        "        \n",
        "    def reinforce(self, s_, n_s_, a_, r_, game_over_):\n",
        "\n",
        "        # Two steps: first memorize the states, second learn from the pool\n",
        "        s_, n_s_, a_, r_, game_over_=torch.from_numpy(s_).unsqueeze(0),torch.from_numpy(n_s_).unsqueeze(0),torch.tensor([a_]),torch.tensor([r_]),torch.tensor([game_over_])\n",
        "        self.memory.remember(s_, n_s_, a_, r_, game_over_)\n",
        "        if len(self.memory.memory)<self.batch_size:\n",
        "          return\n",
        "        #Getting batch from Replay Buffer\n",
        "        transitions=self.memory.random_access(self.batch_size)\n",
        "        batch = Transition(*zip(*transitions))\n",
        "        state_batch = torch.cat(batch.state).to(device)\n",
        "        next_batch=torch.cat(batch.next_state).to(device)\n",
        "        action_batch = torch.cat(batch.action).to(device)\n",
        "        reward_batch = torch.cat(batch.reward).to(device)\n",
        "        over_batch=torch.cat(batch.game_over).to(device)\n",
        "        #Updating Params of NN \n",
        "        Q_sa=self.model(state_batch).gather(dim=1,index=action_batch.unsqueeze(1))\n",
        "        Expected_Q=self.model.predict(next_batch)\n",
        "        target_q = torch.where(over_batch,reward_batch.double(),(Expected_Q * self.discount) + reward_batch).unsqueeze(1)\n",
        "        #Clipping Target\n",
        "        target_q=target_q.clamp(-3,3)\n",
        "        loss = F.mse_loss(Q_sa, target_q)\n",
        "        self.optimizer.zero_grad()\n",
        "        loss.backward()\n",
        "\n",
        "        #Clipping The gradient \n",
        "        for param in self.model.parameters():\n",
        "            param.grad.data.clamp_(-3, 3)\n",
        "        self.optimizer.step()\n",
        "        return loss\n",
        "\n",
        "    def save(self,name_weights='model.h5',name_model='model.json'):\n",
        "        torch.save(self.model.state_dict(),name_weights)\n",
        "        torch.save(self.model,name_model)\n",
        "\n",
        "            \n",
        "    def load(self,name_weights='model.h5',name_model='model.json'):\n",
        "        self.model.load_state_dict(torch.load(name_weights))\n",
        "\n",
        "            \n",
        "class DQN_FC(DQN):\n",
        "    def __init__(self, *args, lr=0.1,**kwargs):\n",
        "        super(DQN_FC, self).__init__( *args,**kwargs)\n",
        "        self.model = Model(self.n_state).double().to(device)\n",
        "        self.optimizer=optim.Adam(self.model.parameters(),lr=lr)"
      ],
      "execution_count": 0,
      "outputs": []
    },
    {
      "cell_type": "code",
      "metadata": {
        "id": "la7lMI0kjL2M",
        "colab_type": "code",
        "outputId": "ca37eb86-aa6c-4e2d-de14-20d3136e2303",
        "colab": {
          "base_uri": "https://localhost:8080/",
          "height": 1000
        }
      },
      "source": [
        "device=torch.device('cuda') \n",
        "env = Environment(grid_size=size, max_time=T, temperature=0.3)\n",
        "agent_fc = DQN_FC(size, lr=.001, epsilon = 0.1, memory_size=2000, batch_size = 32)\n",
        "epochs_train=101\n",
        "train(agent_fc, env, epochs_train, prefix='fc_train')\n",
        "HTML(display_videos('fc_train100.mp4'))"
      ],
      "execution_count": 14,
      "outputs": [
        {
          "output_type": "stream",
          "text": [
            "Epoch 000/101 | Loss 0.0487 | Win/lose count 2.5/4.0 (-1.5)\n"
          ],
          "name": "stdout"
        },
        {
          "output_type": "stream",
          "text": [
            "/usr/local/lib/python3.6/dist-packages/torch/serialization.py:360: UserWarning: Couldn't retrieve source code for container of type Model. It won't be checked for correctness upon loading.\n",
            "  \"type \" + obj.__name__ + \". It won't be checked \"\n"
          ],
          "name": "stderr"
        },
        {
          "output_type": "stream",
          "text": [
            "Epoch 001/101 | Loss 0.0098 | Win/lose count 0.5/3.0 (-2.5)\n",
            "Epoch 002/101 | Loss 0.0089 | Win/lose count 3.5/4.0 (-0.5)\n",
            "Epoch 003/101 | Loss 0.0109 | Win/lose count 7.0/3.0 (4.0)\n",
            "Epoch 004/101 | Loss 0.0047 | Win/lose count 3.0/2.0 (1.0)\n",
            "Epoch 005/101 | Loss 0.1883 | Win/lose count 4.0/2.0 (2.0)\n",
            "Epoch 006/101 | Loss 0.0313 | Win/lose count 3.5/3.0 (0.5)\n",
            "Epoch 007/101 | Loss 0.2796 | Win/lose count 4.0/2.0 (2.0)\n",
            "Epoch 008/101 | Loss 0.2930 | Win/lose count 3.5/1.0 (2.5)\n",
            "Epoch 009/101 | Loss 0.0212 | Win/lose count 3.0/1.0 (2.0)\n",
            "Epoch 010/101 | Loss 0.0077 | Win/lose count 4.0/1.0 (3.0)\n",
            "Epoch 011/101 | Loss 0.0123 | Win/lose count 8.5/3.0 (5.5)\n",
            "Epoch 012/101 | Loss 0.2420 | Win/lose count 4.5/1.0 (3.5)\n",
            "Epoch 013/101 | Loss 0.0068 | Win/lose count 9.0/2.0 (7.0)\n",
            "Epoch 014/101 | Loss 0.3172 | Win/lose count 11.0/2.0 (9.0)\n",
            "Epoch 015/101 | Loss 0.0099 | Win/lose count 2.5/3.0 (-0.5)\n",
            "Epoch 016/101 | Loss 0.0145 | Win/lose count 16.5/3.0 (13.5)\n",
            "Epoch 017/101 | Loss 0.1000 | Win/lose count 2.0/3.0 (-1.0)\n",
            "Epoch 018/101 | Loss 0.0183 | Win/lose count 10.0/3.0 (7.0)\n",
            "Epoch 019/101 | Loss 0.0062 | Win/lose count 5.0/0 (5.0)\n",
            "Epoch 020/101 | Loss 0.0112 | Win/lose count 8.0/1.0 (7.0)\n",
            "Epoch 021/101 | Loss 0.0090 | Win/lose count 8.0/0 (8.0)\n",
            "Epoch 022/101 | Loss 0.0061 | Win/lose count 5.5/2.0 (3.5)\n",
            "Epoch 023/101 | Loss 0.0268 | Win/lose count 7.0/2.0 (5.0)\n",
            "Epoch 024/101 | Loss 0.0077 | Win/lose count 8.0/2.0 (6.0)\n",
            "Epoch 025/101 | Loss 0.0193 | Win/lose count 13.5/3.0 (10.5)\n",
            "Epoch 026/101 | Loss 0.1736 | Win/lose count 15.0/2.0 (13.0)\n",
            "Epoch 027/101 | Loss 0.0167 | Win/lose count 14.5/2.0 (12.5)\n",
            "Epoch 028/101 | Loss 0.0168 | Win/lose count 4.0/2.0 (2.0)\n",
            "Epoch 029/101 | Loss 0.0057 | Win/lose count 2.5/2.0 (0.5)\n",
            "Epoch 030/101 | Loss 0.0115 | Win/lose count 11.5/3.0 (8.5)\n",
            "Epoch 031/101 | Loss 0.0197 | Win/lose count 5.5/1.0 (4.5)\n",
            "Epoch 032/101 | Loss 0.0101 | Win/lose count 14.0/2.0 (12.0)\n",
            "Epoch 033/101 | Loss 0.0210 | Win/lose count 7.5/2.0 (5.5)\n",
            "Epoch 034/101 | Loss 0.0102 | Win/lose count 18.5/2.0 (16.5)\n",
            "Epoch 035/101 | Loss 0.0190 | Win/lose count 3.5/1.0 (2.5)\n",
            "Epoch 036/101 | Loss 0.0115 | Win/lose count 6.0/6.0 (0.0)\n",
            "Epoch 037/101 | Loss 0.0122 | Win/lose count 5.5/1.0 (4.5)\n",
            "Epoch 038/101 | Loss 0.0090 | Win/lose count 7.0/1.0 (6.0)\n",
            "Epoch 039/101 | Loss 0.0137 | Win/lose count 5.5/1.0 (4.5)\n",
            "Epoch 040/101 | Loss 0.0047 | Win/lose count 6.0/4.0 (2.0)\n",
            "Epoch 041/101 | Loss 0.0143 | Win/lose count 3.0/3.0 (0.0)\n",
            "Epoch 042/101 | Loss 0.0074 | Win/lose count 5.5/1.0 (4.5)\n",
            "Epoch 043/101 | Loss 0.0108 | Win/lose count 6.5/3.0 (3.5)\n",
            "Epoch 044/101 | Loss 0.0163 | Win/lose count 5.5/4.0 (1.5)\n",
            "Epoch 045/101 | Loss 0.0545 | Win/lose count 6.0/1.0 (5.0)\n",
            "Epoch 046/101 | Loss 0.0510 | Win/lose count 16.0/5.0 (11.0)\n",
            "Epoch 047/101 | Loss 0.0114 | Win/lose count 4.0/2.0 (2.0)\n",
            "Epoch 048/101 | Loss 0.0082 | Win/lose count 5.0/3.0 (2.0)\n",
            "Epoch 049/101 | Loss 0.2023 | Win/lose count 11.0/3.0 (8.0)\n",
            "Epoch 050/101 | Loss 0.0243 | Win/lose count 6.5/2.0 (4.5)\n",
            "Epoch 051/101 | Loss 0.0138 | Win/lose count 11.0/4.0 (7.0)\n",
            "Epoch 052/101 | Loss 0.0104 | Win/lose count 2.0/0 (2.0)\n",
            "Epoch 053/101 | Loss 0.0149 | Win/lose count 2.0/1.0 (1.0)\n",
            "Epoch 054/101 | Loss 0.2355 | Win/lose count 9.0/3.0 (6.0)\n",
            "Epoch 055/101 | Loss 0.0056 | Win/lose count 9.0/3.0 (6.0)\n",
            "Epoch 056/101 | Loss 0.0131 | Win/lose count 12.5/2.0 (10.5)\n",
            "Epoch 057/101 | Loss 0.0262 | Win/lose count 12.0/1.0 (11.0)\n",
            "Epoch 058/101 | Loss 0.0108 | Win/lose count 2.5/1.0 (1.5)\n",
            "Epoch 059/101 | Loss 0.1866 | Win/lose count 10.5/3.0 (7.5)\n",
            "Epoch 060/101 | Loss 0.0094 | Win/lose count 7.0/2.0 (5.0)\n",
            "Epoch 061/101 | Loss 0.0160 | Win/lose count 7.5/2.0 (5.5)\n",
            "Epoch 062/101 | Loss 0.0112 | Win/lose count 7.5/2.0 (5.5)\n",
            "Epoch 063/101 | Loss 0.0155 | Win/lose count 17.0/2.0 (15.0)\n",
            "Epoch 064/101 | Loss 0.0257 | Win/lose count 3.0/2.0 (1.0)\n",
            "Epoch 065/101 | Loss 0.0191 | Win/lose count 3.5/2.0 (1.5)\n",
            "Epoch 066/101 | Loss 0.0055 | Win/lose count 9.0/2.0 (7.0)\n",
            "Epoch 067/101 | Loss 0.0130 | Win/lose count 11.5/2.0 (9.5)\n",
            "Epoch 068/101 | Loss 0.0110 | Win/lose count 2.5/5.0 (-2.5)\n",
            "Epoch 069/101 | Loss 0.0060 | Win/lose count 14.0/1.0 (13.0)\n",
            "Epoch 070/101 | Loss 0.2247 | Win/lose count 7.0/1.0 (6.0)\n",
            "Epoch 071/101 | Loss 0.0153 | Win/lose count 4.5/2.0 (2.5)\n",
            "Epoch 072/101 | Loss 0.0117 | Win/lose count 7.0/1.0 (6.0)\n",
            "Epoch 073/101 | Loss 0.0109 | Win/lose count 10.0/5.0 (5.0)\n",
            "Epoch 074/101 | Loss 0.0104 | Win/lose count 4.5/1.0 (3.5)\n",
            "Epoch 075/101 | Loss 0.0098 | Win/lose count 10.5/1.0 (9.5)\n",
            "Epoch 076/101 | Loss 0.0129 | Win/lose count 14.5/1.0 (13.5)\n",
            "Epoch 077/101 | Loss 0.0102 | Win/lose count 9.0/2.0 (7.0)\n",
            "Epoch 078/101 | Loss 0.0077 | Win/lose count 6.5/2.0 (4.5)\n",
            "Epoch 079/101 | Loss 0.0064 | Win/lose count 1.5/0 (1.5)\n",
            "Epoch 080/101 | Loss 0.0138 | Win/lose count 4.0/3.0 (1.0)\n",
            "Epoch 081/101 | Loss 0.0091 | Win/lose count 11.5/5.0 (6.5)\n",
            "Epoch 082/101 | Loss 0.0161 | Win/lose count 1.5/2.0 (-0.5)\n",
            "Epoch 083/101 | Loss 0.2753 | Win/lose count 6.5/1.0 (5.5)\n",
            "Epoch 084/101 | Loss 0.0049 | Win/lose count 5.5/2.0 (3.5)\n",
            "Epoch 085/101 | Loss 0.0178 | Win/lose count 6.0/2.0 (4.0)\n",
            "Epoch 086/101 | Loss 0.0233 | Win/lose count 7.0/3.0 (4.0)\n",
            "Epoch 087/101 | Loss 0.0118 | Win/lose count 2.0/4.0 (-2.0)\n",
            "Epoch 088/101 | Loss 0.0075 | Win/lose count 7.0/0 (7.0)\n",
            "Epoch 089/101 | Loss 0.0093 | Win/lose count 8.5/1.0 (7.5)\n",
            "Epoch 090/101 | Loss 0.0106 | Win/lose count 9.5/0 (9.5)\n",
            "Epoch 091/101 | Loss 0.0089 | Win/lose count 4.0/2.0 (2.0)\n",
            "Epoch 092/101 | Loss 0.0255 | Win/lose count 7.0/1.0 (6.0)\n",
            "Epoch 093/101 | Loss 0.0646 | Win/lose count 7.5/1.0 (6.5)\n",
            "Epoch 094/101 | Loss 0.2147 | Win/lose count 8.0/1.0 (7.0)\n",
            "Epoch 095/101 | Loss 0.0080 | Win/lose count 15.5/4.0 (11.5)\n",
            "Epoch 096/101 | Loss 0.0097 | Win/lose count 2.5/3.0 (-0.5)\n",
            "Epoch 097/101 | Loss 0.0246 | Win/lose count 6.0/6.0 (0.0)\n",
            "Epoch 098/101 | Loss 0.0090 | Win/lose count 8.0/2.0 (6.0)\n",
            "Epoch 099/101 | Loss 0.2019 | Win/lose count 9.0/5.0 (4.0)\n",
            "Epoch 100/101 | Loss 0.0103 | Win/lose count 4.5/6.0 (-1.5)\n"
          ],
          "name": "stdout"
        },
        {
          "output_type": "execute_result",
          "data": {
            "text/html": [
              "<video alt=\"test\" controls>\n",
              "                <source src=\"data:video/mp4;base64,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\" type=\"video/mp4\" />\n",
              "             </video>"
            ],
            "text/plain": [
              "<IPython.core.display.HTML object>"
            ]
          },
          "metadata": {
            "tags": []
          },
          "execution_count": 14
        }
      ]
    },
    {
      "cell_type": "code",
      "metadata": {
        "colab_type": "code",
        "id": "L04YXgv83hLJ",
        "colab": {}
      },
      "source": [
        ""
      ],
      "execution_count": 0,
      "outputs": []
    },
    {
      "cell_type": "markdown",
      "metadata": {
        "id": "oxJsIkZbjL2P",
        "colab_type": "text"
      },
      "source": [
        "***\n",
        "***\n",
        "__Question 8__ Implement the DQN training algorithm using a CNN (for example, 2 convolutional layers and one final fully connected layer)."
      ]
    },
    {
      "cell_type": "code",
      "metadata": {
        "id": "KMn8-PRx31jx",
        "colab_type": "code",
        "colab": {}
      },
      "source": [
        "class Model_conv(nn.Module):\n",
        "  def __init__(self, n_state):\n",
        "    super(Model_conv, self).__init__()\n",
        "    self.n_state = n_state\n",
        "    self.conv=nn.Sequential(nn.Conv2d(n_state,32,2),nn.ReLU(),\n",
        "                            nn.Conv2d(32,32,2),nn.ReLU()\n",
        "                            ) #for input(5x5x2)output should be (3x3x32)\n",
        "    self.net = nn.Sequential(nn.Linear(32*3*3,50), nn.ReLU(),nn.Dropout(0.5),\n",
        "                             nn.Linear(50,out_features=4))\n",
        "\n",
        "  def forward(self, state):\n",
        "    state=state.permute(0,3,1,2).contiguous()\n",
        "    x=self.conv(state)\n",
        "    x=x.reshape(state.size(0),-1)\n",
        "    x=x.view(state.size(0),-1)\n",
        "    return self.net(x)\n",
        "  def predict(self, x):\n",
        "      return self(x).max(1)[0].detach() #Detach so we don't compute gradient \n",
        "      \n",
        "class DQN_CNN(DQN):\n",
        "    def __init__(self, *args,lr=0.1,**kwargs):\n",
        "        super(DQN_CNN, self).__init__(*args,**kwargs)\n",
        "        self.model = Model_conv(self.n_state).double().to(device)\n",
        "        self.optimizer=optim.Adam(self.model.parameters(),lr=lr)\n"
      ],
      "execution_count": 0,
      "outputs": []
    },
    {
      "cell_type": "code",
      "metadata": {
        "id": "z2nDHO8QjL2R",
        "colab_type": "code",
        "outputId": "2147db98-89fa-446b-bf74-694aba6e9d1c",
        "colab": {
          "base_uri": "https://localhost:8080/",
          "height": 1000
        }
      },
      "source": [
        "device=torch.device('cuda')\n",
        "env = Environment(grid_size=size, max_time=T, temperature=0.3)\n",
        "agent_cnn = DQN_CNN(size, lr=.001, epsilon = 0.1, memory_size=2000, batch_size = 32)\n",
        "train(agent_cnn,env,epochs_train,prefix='cnn_train')\n",
        "HTML(display_videos('cnn_train100.mp4'))"
      ],
      "execution_count": 16,
      "outputs": [
        {
          "output_type": "stream",
          "text": [
            "Epoch 000/101 | Loss 0.1955 | Win/lose count 8.0/10.0 (-2.0)\n"
          ],
          "name": "stdout"
        },
        {
          "output_type": "stream",
          "text": [
            "/usr/local/lib/python3.6/dist-packages/torch/serialization.py:360: UserWarning: Couldn't retrieve source code for container of type Model_conv. It won't be checked for correctness upon loading.\n",
            "  \"type \" + obj.__name__ + \". It won't be checked \"\n"
          ],
          "name": "stderr"
        },
        {
          "output_type": "stream",
          "text": [
            "Epoch 001/101 | Loss 0.2297 | Win/lose count 10.5/10.0 (0.5)\n",
            "Epoch 002/101 | Loss 0.4527 | Win/lose count 9.0/6.0 (3.0)\n",
            "Epoch 003/101 | Loss 0.3218 | Win/lose count 12.5/5.0 (7.5)\n",
            "Epoch 004/101 | Loss 0.2619 | Win/lose count 7.0/9.0 (-2.0)\n",
            "Epoch 005/101 | Loss 0.2758 | Win/lose count 16.0/5.0 (11.0)\n",
            "Epoch 006/101 | Loss 0.1356 | Win/lose count 11.5/9.0 (2.5)\n",
            "Epoch 007/101 | Loss 0.2172 | Win/lose count 5.5/6.0 (-0.5)\n",
            "Epoch 008/101 | Loss 0.2501 | Win/lose count 11.5/5.0 (6.5)\n",
            "Epoch 009/101 | Loss 0.2271 | Win/lose count 10.0/6.0 (4.0)\n",
            "Epoch 010/101 | Loss 0.1940 | Win/lose count 12.0/5.0 (7.0)\n",
            "Epoch 011/101 | Loss 0.1627 | Win/lose count 7.0/6.0 (1.0)\n",
            "Epoch 012/101 | Loss 0.1350 | Win/lose count 16.0/9.0 (7.0)\n",
            "Epoch 013/101 | Loss 0.1222 | Win/lose count 14.5/2.0 (12.5)\n",
            "Epoch 014/101 | Loss 0.1669 | Win/lose count 10.5/3.0 (7.5)\n",
            "Epoch 015/101 | Loss 0.1646 | Win/lose count 13.0/8.0 (5.0)\n",
            "Epoch 016/101 | Loss 0.1305 | Win/lose count 12.0/10.0 (2.0)\n",
            "Epoch 017/101 | Loss 0.1871 | Win/lose count 9.5/4.0 (5.5)\n",
            "Epoch 018/101 | Loss 0.2625 | Win/lose count 13.0/4.0 (9.0)\n",
            "Epoch 019/101 | Loss 0.2219 | Win/lose count 14.0/7.0 (7.0)\n",
            "Epoch 020/101 | Loss 0.1203 | Win/lose count 10.5/7.0 (3.5)\n",
            "Epoch 021/101 | Loss 0.2877 | Win/lose count 12.0/7.0 (5.0)\n",
            "Epoch 022/101 | Loss 0.0845 | Win/lose count 17.5/9.0 (8.5)\n",
            "Epoch 023/101 | Loss 0.0593 | Win/lose count 16.0/6.0 (10.0)\n",
            "Epoch 024/101 | Loss 0.0843 | Win/lose count 20.0/6.0 (14.0)\n",
            "Epoch 025/101 | Loss 0.1028 | Win/lose count 2.0/1.0 (1.0)\n",
            "Epoch 026/101 | Loss 0.0930 | Win/lose count 15.0/2.0 (13.0)\n",
            "Epoch 027/101 | Loss 0.1234 | Win/lose count 10.5/5.0 (5.5)\n",
            "Epoch 028/101 | Loss 0.0769 | Win/lose count 14.5/3.0 (11.5)\n",
            "Epoch 029/101 | Loss 0.0836 | Win/lose count 17.0/5.0 (12.0)\n",
            "Epoch 030/101 | Loss 0.0373 | Win/lose count 10.5/2.0 (8.5)\n",
            "Epoch 031/101 | Loss 0.0707 | Win/lose count 20.0/4.0 (16.0)\n",
            "Epoch 032/101 | Loss 0.0608 | Win/lose count 15.5/6.0 (9.5)\n",
            "Epoch 033/101 | Loss 0.0525 | Win/lose count 20.0/2.0 (18.0)\n",
            "Epoch 034/101 | Loss 0.0505 | Win/lose count 7.5/1.0 (6.5)\n",
            "Epoch 035/101 | Loss 0.0491 | Win/lose count 14.0/5.0 (9.0)\n",
            "Epoch 036/101 | Loss 0.0568 | Win/lose count 25.5/6.0 (19.5)\n",
            "Epoch 037/101 | Loss 0.0717 | Win/lose count 16.5/5.0 (11.5)\n",
            "Epoch 038/101 | Loss 0.0351 | Win/lose count 11.0/7.0 (4.0)\n",
            "Epoch 039/101 | Loss 0.0324 | Win/lose count 11.0/8.0 (3.0)\n",
            "Epoch 040/101 | Loss 0.0387 | Win/lose count 8.0/4.0 (4.0)\n",
            "Epoch 041/101 | Loss 0.0242 | Win/lose count 18.5/7.0 (11.5)\n",
            "Epoch 042/101 | Loss 0.0256 | Win/lose count 12.0/8.0 (4.0)\n",
            "Epoch 043/101 | Loss 0.0238 | Win/lose count 20.0/5.0 (15.0)\n",
            "Epoch 044/101 | Loss 0.0306 | Win/lose count 19.5/4.0 (15.5)\n",
            "Epoch 045/101 | Loss 0.0359 | Win/lose count 14.0/4.0 (10.0)\n",
            "Epoch 046/101 | Loss 0.0268 | Win/lose count 13.5/5.0 (8.5)\n",
            "Epoch 047/101 | Loss 0.0272 | Win/lose count 17.5/3.0 (14.5)\n",
            "Epoch 048/101 | Loss 0.0207 | Win/lose count 15.0/4.0 (11.0)\n",
            "Epoch 049/101 | Loss 0.0236 | Win/lose count 15.5/4.0 (11.5)\n",
            "Epoch 050/101 | Loss 0.0111 | Win/lose count 20.5/3.0 (17.5)\n",
            "Epoch 051/101 | Loss 0.0196 | Win/lose count 6.0/3.0 (3.0)\n",
            "Epoch 052/101 | Loss 0.0209 | Win/lose count 18.0/8.0 (10.0)\n",
            "Epoch 053/101 | Loss 0.0226 | Win/lose count 16.5/2.0 (14.5)\n",
            "Epoch 054/101 | Loss 0.1907 | Win/lose count 6.5/1.0 (5.5)\n",
            "Epoch 055/101 | Loss 0.0182 | Win/lose count 16.5/5.0 (11.5)\n",
            "Epoch 056/101 | Loss 0.0117 | Win/lose count 13.0/2.0 (11.0)\n",
            "Epoch 057/101 | Loss 0.0075 | Win/lose count 18.0/5.0 (13.0)\n",
            "Epoch 058/101 | Loss 0.0280 | Win/lose count 14.0/7.0 (7.0)\n",
            "Epoch 059/101 | Loss 0.0113 | Win/lose count 8.5/2.0 (6.5)\n",
            "Epoch 060/101 | Loss 0.0246 | Win/lose count 21.0/5.0 (16.0)\n",
            "Epoch 061/101 | Loss 0.0197 | Win/lose count 14.0/11.0 (3.0)\n",
            "Epoch 062/101 | Loss 0.0086 | Win/lose count 11.0/3.0 (8.0)\n",
            "Epoch 063/101 | Loss 0.0127 | Win/lose count 24.5/5.0 (19.5)\n",
            "Epoch 064/101 | Loss 0.0095 | Win/lose count 13.5/6.0 (7.5)\n",
            "Epoch 065/101 | Loss 0.0173 | Win/lose count 19.0/8.0 (11.0)\n",
            "Epoch 066/101 | Loss 0.0066 | Win/lose count 14.5/6.0 (8.5)\n",
            "Epoch 067/101 | Loss 0.0882 | Win/lose count 13.5/2.0 (11.5)\n",
            "Epoch 068/101 | Loss 0.0098 | Win/lose count 12.5/1.0 (11.5)\n",
            "Epoch 069/101 | Loss 0.0114 | Win/lose count 17.5/1.0 (16.5)\n",
            "Epoch 070/101 | Loss 0.0093 | Win/lose count 22.0/6.0 (16.0)\n",
            "Epoch 071/101 | Loss 0.0229 | Win/lose count 21.5/4.0 (17.5)\n",
            "Epoch 072/101 | Loss 0.0071 | Win/lose count 20.5/7.0 (13.5)\n",
            "Epoch 073/101 | Loss 0.0103 | Win/lose count 13.5/6.0 (7.5)\n",
            "Epoch 074/101 | Loss 0.0090 | Win/lose count 18.5/1.0 (17.5)\n",
            "Epoch 075/101 | Loss 0.0235 | Win/lose count 10.5/5.0 (5.5)\n",
            "Epoch 076/101 | Loss 0.0057 | Win/lose count 9.5/4.0 (5.5)\n",
            "Epoch 077/101 | Loss 0.0321 | Win/lose count 14.5/4.0 (10.5)\n",
            "Epoch 078/101 | Loss 0.0072 | Win/lose count 8.0/5.0 (3.0)\n",
            "Epoch 079/101 | Loss 0.0096 | Win/lose count 19.0/5.0 (14.0)\n",
            "Epoch 080/101 | Loss 0.0089 | Win/lose count 18.5/3.0 (15.5)\n",
            "Epoch 081/101 | Loss 0.0557 | Win/lose count 11.0/4.0 (7.0)\n",
            "Epoch 082/101 | Loss 0.0054 | Win/lose count 10.5/4.0 (6.5)\n",
            "Epoch 083/101 | Loss 0.1995 | Win/lose count 25.5/1.0 (24.5)\n",
            "Epoch 084/101 | Loss 0.0227 | Win/lose count 9.0/10.0 (-1.0)\n",
            "Epoch 085/101 | Loss 0.0078 | Win/lose count 10.0/8.0 (2.0)\n",
            "Epoch 086/101 | Loss 0.0063 | Win/lose count 13.5/8.0 (5.5)\n",
            "Epoch 087/101 | Loss 0.0412 | Win/lose count 11.5/4.0 (7.5)\n",
            "Epoch 088/101 | Loss 0.0165 | Win/lose count 22.0/4.0 (18.0)\n",
            "Epoch 089/101 | Loss 0.0079 | Win/lose count 15.5/3.0 (12.5)\n",
            "Epoch 090/101 | Loss 0.0122 | Win/lose count 12.5/3.0 (9.5)\n",
            "Epoch 091/101 | Loss 0.0342 | Win/lose count 23.5/8.0 (15.5)\n",
            "Epoch 092/101 | Loss 0.0143 | Win/lose count 13.0/3.0 (10.0)\n",
            "Epoch 093/101 | Loss 0.0118 | Win/lose count 4.5/3.0 (1.5)\n",
            "Epoch 094/101 | Loss 0.0051 | Win/lose count 13.5/5.0 (8.5)\n",
            "Epoch 095/101 | Loss 0.0110 | Win/lose count 5.0/5.0 (0.0)\n",
            "Epoch 096/101 | Loss 0.2257 | Win/lose count 10.5/4.0 (6.5)\n",
            "Epoch 097/101 | Loss 0.0071 | Win/lose count 17.0/3.0 (14.0)\n",
            "Epoch 098/101 | Loss 0.0111 | Win/lose count 12.5/6.0 (6.5)\n",
            "Epoch 099/101 | Loss 0.0160 | Win/lose count 11.5/5.0 (6.5)\n",
            "Epoch 100/101 | Loss 0.0158 | Win/lose count 18.0/4.0 (14.0)\n"
          ],
          "name": "stdout"
        },
        {
          "output_type": "execute_result",
          "data": {
            "text/html": [
              "<video alt=\"test\" controls>\n",
              "                <source src=\"data:video/mp4;base64,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\" type=\"video/mp4\" />\n",
              "             </video>"
            ],
            "text/plain": [
              "<IPython.core.display.HTML object>"
            ]
          },
          "metadata": {
            "tags": []
          },
          "execution_count": 16
        }
      ]
    },
    {
      "cell_type": "markdown",
      "metadata": {
        "id": "dinYxiJojL2T",
        "colab_type": "text"
      },
      "source": [
        "***\n",
        "***\n",
        "__Question 9__ Test both algorithms and compare their performances. Which issue(s) do you observe? Observe also different behaviors by changing the temperature."
      ]
    },
    {
      "cell_type": "code",
      "metadata": {
        "id": "VaxwBfKojL2T",
        "colab_type": "code",
        "outputId": "5d4ab839-ef9a-405f-db95-c0290bf16515",
        "colab": {
          "base_uri": "https://localhost:8080/",
          "height": 456
        }
      },
      "source": [
        "env = Environment(grid_size=size, max_time=T,temperature=0.3)\n",
        "\"\"\"agent_cnn = DQN_CNN(size, lr=.1, epsilon = 0.1, memory_size=2000, batch_size = 32)\n",
        "agent_cnn.load(name_weights='cnn_trainmodel.h5',name_model='cnn_trainmodel.json')\n",
        "agent_fc = DQN_FC(size, lr=.1, epsilon = 0.1, memory_size=2000, batch_size = 32)\n",
        "agent_fc.load(name_weights='fc_trainmodel.h5',name_model='fc_trainmodel.json')\"\"\"\n",
        "print('Test of the CNN')\n",
        "epochs_test=11\n",
        "test(agent_cnn,env,epochs_test,prefix='cnn_test')\n",
        "print('Test of the FC')\n",
        "test(agent_fc,env,epochs_test,prefix='fc_test')"
      ],
      "execution_count": 17,
      "outputs": [
        {
          "output_type": "stream",
          "text": [
            "Test of the CNN\n",
            "Win/lose count 7.0/0. Average score (7.0)\n",
            "Win/lose count 5.5/1.0. Average score (5.75)\n",
            "Win/lose count 6.5/1.0. Average score (5.666666666666667)\n",
            "Win/lose count 8.5/3.0. Average score (5.625)\n",
            "Win/lose count 7.5/0. Average score (6.0)\n",
            "Win/lose count 7.0/1.0. Average score (6.0)\n",
            "Win/lose count 9.0/0. Average score (6.428571428571429)\n",
            "Win/lose count 8.5/3.0. Average score (6.3125)\n",
            "Win/lose count 6.5/1.0. Average score (6.222222222222222)\n",
            "Win/lose count 7.0/2.0. Average score (6.1)\n",
            "Win/lose count 3.5/1.0. Average score (5.7727272727272725)\n",
            "Final score: 5.7727272727272725\n",
            "Test of the FC\n",
            "Win/lose count 1.0/0. Average score (1.0)\n",
            "Win/lose count 4.0/0. Average score (2.5)\n",
            "Win/lose count 3.0/0. Average score (2.6666666666666665)\n",
            "Win/lose count 0.5/0. Average score (2.125)\n",
            "Win/lose count 2.5/0. Average score (2.2)\n",
            "Win/lose count 1.0/0. Average score (2.0)\n",
            "Win/lose count 1.0/0. Average score (1.8571428571428572)\n",
            "Win/lose count 1.5/0. Average score (1.8125)\n",
            "Win/lose count 3.0/0. Average score (1.9444444444444444)\n",
            "Win/lose count 1.5/0. Average score (1.9)\n",
            "Win/lose count 2.0/0. Average score (1.9090909090909092)\n",
            "Final score: 1.9090909090909092\n"
          ],
          "name": "stdout"
        }
      ]
    },
    {
      "cell_type": "code",
      "metadata": {
        "id": "iTyLW9c4jL2W",
        "colab_type": "code",
        "outputId": "e35a6900-7d4b-4453-eff6-e569df6f31c9",
        "colab": {
          "base_uri": "https://localhost:8080/",
          "height": 293
        }
      },
      "source": [
        "HTML(display_videos('fc_test10.mp4'))"
      ],
      "execution_count": 18,
      "outputs": [
        {
          "output_type": "execute_result",
          "data": {
            "text/html": [
              "<video alt=\"test\" controls>\n",
              "                <source src=\"data:video/mp4;base64,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\" type=\"video/mp4\" />\n",
              "             </video>"
            ],
            "text/plain": [
              "<IPython.core.display.HTML object>"
            ]
          },
          "metadata": {
            "tags": []
          },
          "execution_count": 18
        }
      ]
    },
    {
      "cell_type": "markdown",
      "metadata": {
        "id": "CZVEbiCKjL2Y",
        "colab_type": "text"
      },
      "source": [
        "the CNN performs much better than the fully connected network. And that the difference is even bigger with larger temperatures. \n"
      ]
    },
    {
      "cell_type": "markdown",
      "metadata": {
        "id": "fy5Auxv4jL2Y",
        "colab_type": "text"
      },
      "source": [
        "***\n",
        "\n",
        "The algorithm tends to not explore the map which can be an issue. We propose two ideas in order to encourage exploration:\n",
        "1. Incorporating a decreasing $\\epsilon$-greedy exploration. You can use the method ```set_epsilon```\n",
        "2. Append via the environment a new state that describes if a cell has been visited or not\n",
        "\n",
        "***\n",
        "__Question 10__ Design a new ```train_explore``` function and environment class ```EnvironmentExploring``` to tackle the issue of exploration.\n",
        "\n"
      ]
    },
    {
      "cell_type": "code",
      "metadata": {
        "id": "S6QFZD7OjL2Y",
        "colab_type": "code",
        "colab": {}
      },
      "source": [
        "def train_explore(agent,env,epoch,decay=0.9,prefix=''):\n",
        "    # Number of won games\n",
        "    score = 0\n",
        "    loss = 0\n",
        "\n",
        "    for e in range(epoch):\n",
        "        # At each epoch, we restart to a fresh game and get the initial state\n",
        "        state = env.reset()\n",
        "        # This assumes that the games will terminate\n",
        "        game_over = False\n",
        "\n",
        "        win = 0\n",
        "        lose = 0\n",
        "        if e%5==0 :\n",
        "          agent.set_epsilon(agent.epsilon*decay)\n",
        "        while not game_over:\n",
        "            # The agent performs an action\n",
        "            action = agent.act(state)\n",
        "\n",
        "            # Apply an action to the environment, get the next state, the reward\n",
        "            # and if the games end\n",
        "            prev_state = state\n",
        "            state, reward, game_over = env.act(action)\n",
        "\n",
        "            # Update the counters\n",
        "            if reward > 0:\n",
        "                win = win + reward\n",
        "            if reward < 0:\n",
        "                lose = lose -reward\n",
        "\n",
        "            # Apply the reinforcement strategy\n",
        "            loss = agent.reinforce(prev_state, state,  action, reward, game_over)\n",
        "\n",
        "        # Save as a mp4\n",
        "        if e % 50 == 0:\n",
        "            env.draw(prefix+str(e))\n",
        "\n",
        "        # Update stats\n",
        "        score += win-lose\n",
        "\n",
        "        print(\"Epoch {:03d}/{:03d} | Loss {:.4f} | Win/lose count {}/{} ({})\"\n",
        "              .format(e, epoch, loss, win, lose, win-lose))\n",
        "        agent.save(name_weights=prefix+'model.h5',name_model=prefix+'model.json')\n",
        "\n"
      ],
      "execution_count": 0,
      "outputs": []
    },
    {
      "cell_type": "code",
      "metadata": {
        "id": "eqV28s7Aje_L",
        "colab_type": "code",
        "colab": {}
      },
      "source": [
        "class EnvironmentExploring(Environment):\n",
        "    def __init__(self, grid_size=10, max_time=500, temperature=0.1):\n",
        "        grid_size = grid_size+4\n",
        "        self.grid_size = grid_size\n",
        "        self.max_time = max_time\n",
        "        self.temperature = temperature\n",
        "\n",
        "        #board on which one plays\n",
        "        self.board = np.zeros((grid_size,grid_size))\n",
        "        self.position = np.zeros((grid_size,grid_size))\n",
        "        #we add an array to track visited cells \n",
        "        self.visited = np.zeros((grid_size,grid_size))\n",
        "        # coordinate of the cat\n",
        "        self.x = 0\n",
        "        self.y = 1\n",
        "\n",
        "        # self time\n",
        "        self.t = 0\n",
        "\n",
        "        self.scale=16\n",
        "\n",
        "        self.to_draw = np.zeros((max_time+2, grid_size*self.scale, grid_size*self.scale, 3))\n",
        "\n",
        "\n",
        "    def draw(self,e):\n",
        "        skvideo.io.vwrite(str(e) + '.mp4', self.to_draw)\n",
        "\n",
        "    def get_frame(self,t):\n",
        "        b = np.zeros((self.grid_size,self.grid_size,3))+128\n",
        "        b[self.board>0,0] = 256\n",
        "        b[self.board < 0, 2] = 256\n",
        "        b[self.x,self.y,:]=256\n",
        "        b[-2:,:,:]=0\n",
        "        b[:,-2:,:]=0\n",
        "        b[:2,:,:]=0\n",
        "        b[:,:2,:]=0\n",
        "        \n",
        "        b =  cv2.resize(b, None, fx=self.scale, fy=self.scale, interpolation=cv2.INTER_NEAREST)\n",
        "\n",
        "        self.to_draw[t,:,:,:]=b\n",
        "\n",
        "\n",
        "    def act(self, action):\n",
        "        \"\"\"This function returns the new state, reward and decides if the\n",
        "        game ends.\"\"\"\n",
        "\n",
        "        self.get_frame(int(self.t))\n",
        "\n",
        "        self.position = np.zeros((self.grid_size, self.grid_size))\n",
        "\n",
        "        self.position[0:2,:]= -1\n",
        "        self.position[:,0:2] = -1\n",
        "        self.position[-2:, :] = -1\n",
        "        self.position[-2:, :] = -1\n",
        "\n",
        "        self.position[self.x, self.y] = 1\n",
        "        if action == 0:\n",
        "            if self.x == self.grid_size-3:\n",
        "                self.x = self.x-1\n",
        "            else:\n",
        "                self.x = self.x + 1\n",
        "        elif action == 1:\n",
        "            if self.x == 2:\n",
        "                self.x = self.x+1\n",
        "            else:\n",
        "                self.x = self.x-1\n",
        "        elif action == 2:\n",
        "            if self.y == self.grid_size - 3:\n",
        "                self.y = self.y - 1\n",
        "            else:\n",
        "                self.y = self.y + 1\n",
        "        elif action == 3:\n",
        "            if self.y == 2:\n",
        "                self.y = self.y + 1\n",
        "            else:\n",
        "                self.y = self.y - 1\n",
        "        else:\n",
        "            RuntimeError('Error: action not recognized')\n",
        "\n",
        "        #updating Visited Status: \n",
        "        self.visited[self.x,self.y]=1\n",
        "        self.t = self.t + 1\n",
        "        reward = self.board[self.x, self.y]\n",
        "        self.board[self.x, self.y] = 0\n",
        "        game_over = self.t > self.max_time\n",
        "        state = np.concatenate((self.board.reshape(self.grid_size, self.grid_size,1),\n",
        "                        self.position.reshape(self.grid_size, self.grid_size,1),\n",
        "                        self.visited.reshape(self.grid_size, self.grid_size,1)),axis=2)\n",
        "        state = state[self.x-2:self.x+3,self.y-2:self.y+3,:]\n",
        "\n",
        "        return state, reward, game_over\n",
        "\n",
        "    def reset(self):\n",
        "        \"\"\"This function resets the game and returns the initial state\"\"\"\n",
        "\n",
        "        self.x = np.random.randint(3, self.grid_size-3, size=1)[0]\n",
        "        self.y = np.random.randint(3, self.grid_size-3, size=1)[0]\n",
        "        #Resetting Visited states \n",
        "        self.visited=np.zeros((self.grid_size, self.grid_size))\n",
        "        self.visited[self.x,self.y]=1\n",
        "\n",
        "        bonus = 0.5*np.random.binomial(1,self.temperature,size=self.grid_size**2)\n",
        "        bonus = bonus.reshape(self.grid_size,self.grid_size)\n",
        "\n",
        "        malus = -1.0*np.random.binomial(1,self.temperature,size=self.grid_size**2)\n",
        "        malus = malus.reshape(self.grid_size, self.grid_size)\n",
        "\n",
        "        self.to_draw = np.zeros((self.max_time+2, self.grid_size*self.scale, self.grid_size*self.scale, 3))\n",
        "\n",
        "\n",
        "        malus[bonus>0]=0\n",
        "\n",
        "        self.board = bonus + malus\n",
        "\n",
        "        self.position = np.zeros((self.grid_size, self.grid_size))\n",
        "        self.position[0:2,:]= -1\n",
        "        self.position[:,0:2] = -1\n",
        "        self.position[-2:, :] = -1\n",
        "        self.position[-2:, :] = -1\n",
        "        self.board[self.x,self.y] = 0\n",
        "        self.t = 0\n",
        "\n",
        "        state = np.concatenate((self.board.reshape(self.grid_size, self.grid_size,1),\n",
        "                        self.position.reshape(self.grid_size, self.grid_size,1),\n",
        "                        self.visited.reshape(self.grid_size, self.grid_size,1)),axis=2)\n",
        "        state = state[self.x - 2:self.x + 3, self.y - 2:self.y + 3, :]\n",
        "        return state"
      ],
      "execution_count": 0,
      "outputs": []
    },
    {
      "cell_type": "code",
      "metadata": {
        "id": "X6uk-m8FjL2a",
        "colab_type": "code",
        "outputId": "ed4d76de-22dd-4187-829e-15718d363ffd",
        "colab": {
          "base_uri": "https://localhost:8080/",
          "height": 1000
        }
      },
      "source": [
        "#Training\n",
        "env = EnvironmentExploring(grid_size=size, max_time=T, temperature=0.3)\n",
        "agent_explore = DQN_CNN(size, lr=.001, epsilon = 0.5, memory_size=2000, batch_size = 32,n_state=3)\n",
        "train_explore(agent_explore, env, 100, decay=0.9,prefix='cnn_train_explore') "
      ],
      "execution_count": 22,
      "outputs": [
        {
          "output_type": "stream",
          "text": [
            "Epoch 000/100 | Loss 0.5531 | Win/lose count 9.5/8.0 (1.5)\n"
          ],
          "name": "stdout"
        },
        {
          "output_type": "stream",
          "text": [
            "/usr/local/lib/python3.6/dist-packages/torch/serialization.py:360: UserWarning: Couldn't retrieve source code for container of type Model_conv. It won't be checked for correctness upon loading.\n",
            "  \"type \" + obj.__name__ + \". It won't be checked \"\n"
          ],
          "name": "stderr"
        },
        {
          "output_type": "stream",
          "text": [
            "Epoch 001/100 | Loss 0.3387 | Win/lose count 11.0/14.0 (-3.0)\n",
            "Epoch 002/100 | Loss 0.2372 | Win/lose count 6.0/10.0 (-4.0)\n",
            "Epoch 003/100 | Loss 0.1303 | Win/lose count 6.5/14.0 (-7.5)\n",
            "Epoch 004/100 | Loss 0.3714 | Win/lose count 9.5/10.0 (-0.5)\n",
            "Epoch 005/100 | Loss 0.1646 | Win/lose count 3.5/8.0 (-4.5)\n",
            "Epoch 006/100 | Loss 0.1165 | Win/lose count 13.5/5.0 (8.5)\n",
            "Epoch 007/100 | Loss 0.3253 | Win/lose count 9.0/12.0 (-3.0)\n",
            "Epoch 008/100 | Loss 0.2375 | Win/lose count 8.0/14.0 (-6.0)\n",
            "Epoch 009/100 | Loss 0.3661 | Win/lose count 17.5/12.0 (5.5)\n",
            "Epoch 010/100 | Loss 0.2154 | Win/lose count 16.0/10.0 (6.0)\n",
            "Epoch 011/100 | Loss 0.2516 | Win/lose count 12.0/8.0 (4.0)\n",
            "Epoch 012/100 | Loss 0.2600 | Win/lose count 16.5/7.0 (9.5)\n",
            "Epoch 013/100 | Loss 0.1600 | Win/lose count 7.0/1.0 (6.0)\n",
            "Epoch 014/100 | Loss 0.1946 | Win/lose count 16.5/6.0 (10.5)\n",
            "Epoch 015/100 | Loss 0.1732 | Win/lose count 10.0/6.0 (4.0)\n",
            "Epoch 016/100 | Loss 0.1071 | Win/lose count 12.5/8.0 (4.5)\n",
            "Epoch 017/100 | Loss 0.1493 | Win/lose count 13.5/8.0 (5.5)\n",
            "Epoch 018/100 | Loss 0.1261 | Win/lose count 9.0/4.0 (5.0)\n",
            "Epoch 019/100 | Loss 0.1242 | Win/lose count 14.0/4.0 (10.0)\n",
            "Epoch 020/100 | Loss 0.1592 | Win/lose count 15.0/5.0 (10.0)\n",
            "Epoch 021/100 | Loss 0.0691 | Win/lose count 20.0/3.0 (17.0)\n",
            "Epoch 022/100 | Loss 0.1682 | Win/lose count 11.5/7.0 (4.5)\n",
            "Epoch 023/100 | Loss 0.2424 | Win/lose count 10.0/11.0 (-1.0)\n",
            "Epoch 024/100 | Loss 0.0951 | Win/lose count 17.5/9.0 (8.5)\n",
            "Epoch 025/100 | Loss 0.1605 | Win/lose count 13.0/5.0 (8.0)\n",
            "Epoch 026/100 | Loss 0.1536 | Win/lose count 16.5/5.0 (11.5)\n",
            "Epoch 027/100 | Loss 0.0863 | Win/lose count 10.0/5.0 (5.0)\n",
            "Epoch 028/100 | Loss 0.0851 | Win/lose count 12.5/11.0 (1.5)\n",
            "Epoch 029/100 | Loss 0.0703 | Win/lose count 13.5/4.0 (9.5)\n",
            "Epoch 030/100 | Loss 0.0726 | Win/lose count 9.0/3.0 (6.0)\n",
            "Epoch 031/100 | Loss 0.0569 | Win/lose count 14.0/5.0 (9.0)\n",
            "Epoch 032/100 | Loss 0.2017 | Win/lose count 15.0/3.0 (12.0)\n",
            "Epoch 033/100 | Loss 0.0458 | Win/lose count 17.0/7.0 (10.0)\n",
            "Epoch 034/100 | Loss 0.0513 | Win/lose count 13.5/6.0 (7.5)\n",
            "Epoch 035/100 | Loss 0.0478 | Win/lose count 3.5/1.0 (2.5)\n",
            "Epoch 036/100 | Loss 0.0413 | Win/lose count 13.5/9.0 (4.5)\n",
            "Epoch 037/100 | Loss 0.0301 | Win/lose count 13.5/8.0 (5.5)\n",
            "Epoch 038/100 | Loss 0.0448 | Win/lose count 19.5/4.0 (15.5)\n",
            "Epoch 039/100 | Loss 0.0202 | Win/lose count 16.5/5.0 (11.5)\n",
            "Epoch 040/100 | Loss 0.0697 | Win/lose count 6.5/5.0 (1.5)\n",
            "Epoch 041/100 | Loss 0.1723 | Win/lose count 7.0/5.0 (2.0)\n",
            "Epoch 042/100 | Loss 0.0279 | Win/lose count 17.5/6.0 (11.5)\n",
            "Epoch 043/100 | Loss 0.0410 | Win/lose count 8.5/8.0 (0.5)\n",
            "Epoch 044/100 | Loss 0.1662 | Win/lose count 16.5/8.0 (8.5)\n",
            "Epoch 045/100 | Loss 0.0252 | Win/lose count 17.0/6.0 (11.0)\n",
            "Epoch 046/100 | Loss 0.0283 | Win/lose count 11.0/6.0 (5.0)\n",
            "Epoch 047/100 | Loss 0.0161 | Win/lose count 12.0/6.0 (6.0)\n",
            "Epoch 048/100 | Loss 0.0198 | Win/lose count 14.0/6.0 (8.0)\n",
            "Epoch 049/100 | Loss 0.0376 | Win/lose count 7.0/4.0 (3.0)\n",
            "Epoch 050/100 | Loss 0.0381 | Win/lose count 16.0/9.0 (7.0)\n",
            "Epoch 051/100 | Loss 0.0161 | Win/lose count 16.5/7.0 (9.5)\n",
            "Epoch 052/100 | Loss 0.0336 | Win/lose count 8.5/8.0 (0.5)\n",
            "Epoch 053/100 | Loss 0.0191 | Win/lose count 12.5/7.0 (5.5)\n",
            "Epoch 054/100 | Loss 0.0222 | Win/lose count 8.5/5.0 (3.5)\n",
            "Epoch 055/100 | Loss 0.0092 | Win/lose count 12.0/2.0 (10.0)\n",
            "Epoch 056/100 | Loss 0.0212 | Win/lose count 18.5/6.0 (12.5)\n",
            "Epoch 057/100 | Loss 0.0059 | Win/lose count 9.0/4.0 (5.0)\n",
            "Epoch 058/100 | Loss 0.0157 | Win/lose count 15.5/8.0 (7.5)\n",
            "Epoch 059/100 | Loss 0.0297 | Win/lose count 14.0/4.0 (10.0)\n",
            "Epoch 060/100 | Loss 0.0410 | Win/lose count 12.0/5.0 (7.0)\n",
            "Epoch 061/100 | Loss 0.0244 | Win/lose count 5.0/3.0 (2.0)\n",
            "Epoch 062/100 | Loss 0.0317 | Win/lose count 5.5/1.0 (4.5)\n",
            "Epoch 063/100 | Loss 0.0082 | Win/lose count 10.5/5.0 (5.5)\n",
            "Epoch 064/100 | Loss 0.0170 | Win/lose count 4.0/4.0 (0.0)\n",
            "Epoch 065/100 | Loss 0.0083 | Win/lose count 17.5/7.0 (10.5)\n",
            "Epoch 066/100 | Loss 0.0138 | Win/lose count 17.5/6.0 (11.5)\n",
            "Epoch 067/100 | Loss 0.0134 | Win/lose count 19.5/4.0 (15.5)\n",
            "Epoch 068/100 | Loss 0.0087 | Win/lose count 12.5/2.0 (10.5)\n",
            "Epoch 069/100 | Loss 0.0152 | Win/lose count 18.0/3.0 (15.0)\n",
            "Epoch 070/100 | Loss 0.2134 | Win/lose count 23.0/5.0 (18.0)\n",
            "Epoch 071/100 | Loss 0.0506 | Win/lose count 13.5/5.0 (8.5)\n",
            "Epoch 072/100 | Loss 0.0101 | Win/lose count 15.0/5.0 (10.0)\n",
            "Epoch 073/100 | Loss 0.0146 | Win/lose count 8.5/1.0 (7.5)\n",
            "Epoch 074/100 | Loss 0.0144 | Win/lose count 16.0/4.0 (12.0)\n",
            "Epoch 075/100 | Loss 0.0074 | Win/lose count 9.5/4.0 (5.5)\n",
            "Epoch 076/100 | Loss 0.0128 | Win/lose count 19.5/7.0 (12.5)\n",
            "Epoch 077/100 | Loss 0.1372 | Win/lose count 12.5/6.0 (6.5)\n",
            "Epoch 078/100 | Loss 0.0195 | Win/lose count 6.0/5.0 (1.0)\n",
            "Epoch 079/100 | Loss 0.0115 | Win/lose count 18.0/7.0 (11.0)\n",
            "Epoch 080/100 | Loss 0.0233 | Win/lose count 20.5/5.0 (15.5)\n",
            "Epoch 081/100 | Loss 0.2206 | Win/lose count 11.5/2.0 (9.5)\n",
            "Epoch 082/100 | Loss 0.0122 | Win/lose count 6.5/2.0 (4.5)\n",
            "Epoch 083/100 | Loss 0.0077 | Win/lose count 11.5/7.0 (4.5)\n",
            "Epoch 084/100 | Loss 0.0059 | Win/lose count 14.5/5.0 (9.5)\n",
            "Epoch 085/100 | Loss 0.0091 | Win/lose count 19.0/4.0 (15.0)\n",
            "Epoch 086/100 | Loss 0.0291 | Win/lose count 6.5/4.0 (2.5)\n",
            "Epoch 087/100 | Loss 0.0281 | Win/lose count 21.0/2.0 (19.0)\n",
            "Epoch 088/100 | Loss 0.0341 | Win/lose count 11.5/1.0 (10.5)\n",
            "Epoch 089/100 | Loss 0.0199 | Win/lose count 21.0/7.0 (14.0)\n",
            "Epoch 090/100 | Loss 0.0199 | Win/lose count 15.5/4.0 (11.5)\n",
            "Epoch 091/100 | Loss 0.0062 | Win/lose count 8.5/5.0 (3.5)\n",
            "Epoch 092/100 | Loss 0.2213 | Win/lose count 13.0/2.0 (11.0)\n",
            "Epoch 093/100 | Loss 0.0113 | Win/lose count 16.0/4.0 (12.0)\n",
            "Epoch 094/100 | Loss 0.0134 | Win/lose count 11.0/2.0 (9.0)\n",
            "Epoch 095/100 | Loss 0.0083 | Win/lose count 14.0/4.0 (10.0)\n",
            "Epoch 096/100 | Loss 0.0122 | Win/lose count 16.0/4.0 (12.0)\n",
            "Epoch 097/100 | Loss 0.0211 | Win/lose count 12.5/3.0 (9.5)\n",
            "Epoch 098/100 | Loss 0.0118 | Win/lose count 14.0/6.0 (8.0)\n",
            "Epoch 099/100 | Loss 0.0264 | Win/lose count 11.0/3.0 (8.0)\n"
          ],
          "name": "stdout"
        }
      ]
    },
    {
      "cell_type": "code",
      "metadata": {
        "id": "8Pp1GbmtY6mb",
        "colab_type": "code",
        "outputId": "3297fc84-37a2-4523-9671-17c48c4ec3d4",
        "colab": {
          "base_uri": "https://localhost:8080/",
          "height": 293
        }
      },
      "source": [
        "HTML(display_videos('cnn_train_explore50.mp4'))"
      ],
      "execution_count": 23,
      "outputs": [
        {
          "output_type": "execute_result",
          "data": {
            "text/html": [
              "<video alt=\"test\" controls>\n",
              "                <source src=\"data:video/mp4;base64,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\" type=\"video/mp4\" />\n",
              "             </video>"
            ],
            "text/plain": [
              "<IPython.core.display.HTML object>"
            ]
          },
          "metadata": {
            "tags": []
          },
          "execution_count": 23
        }
      ]
    },
    {
      "cell_type": "code",
      "metadata": {
        "id": "UYIFTQe_jL2b",
        "colab_type": "code",
        "outputId": "4749f019-7d82-42f2-90d8-1fe098997951",
        "colab": {
          "base_uri": "https://localhost:8080/",
          "height": 495
        }
      },
      "source": [
        "# Evaluation\n",
        "test(agent_explore,env,epochs_test,prefix='cnn_test_explore')\n",
        "HTML(display_videos('cnn_test_explore10.mp4'))"
      ],
      "execution_count": 24,
      "outputs": [
        {
          "output_type": "stream",
          "text": [
            "Win/lose count 18.5/2.0. Average score (16.5)\n",
            "Win/lose count 10.0/0. Average score (13.25)\n",
            "Win/lose count 20.0/7.0. Average score (13.166666666666666)\n",
            "Win/lose count 14.5/3.0. Average score (12.75)\n",
            "Win/lose count 11.5/0. Average score (12.5)\n",
            "Win/lose count 11.0/3.0. Average score (11.75)\n",
            "Win/lose count 14.0/2.0. Average score (11.785714285714286)\n",
            "Win/lose count 1.5/1.0. Average score (10.375)\n",
            "Win/lose count 17.5/2.0. Average score (10.944444444444445)\n",
            "Win/lose count 8.0/1.0. Average score (10.55)\n",
            "Win/lose count 17.5/2.0. Average score (11.0)\n",
            "Final score: 11.0\n"
          ],
          "name": "stdout"
        },
        {
          "output_type": "execute_result",
          "data": {
            "text/html": [
              "<video alt=\"test\" controls>\n",
              "                <source src=\"data:video/mp4;base64,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\" type=\"video/mp4\" />\n",
              "             </video>"
            ],
            "text/plain": [
              "<IPython.core.display.HTML object>"
            ]
          },
          "metadata": {
            "tags": []
          },
          "execution_count": 24
        }
      ]
    },
    {
      "cell_type": "markdown",
      "metadata": {
        "id": "O5HLSusKjL2d",
        "colab_type": "text"
      },
      "source": [
        "***\n",
        "***\n",
        "__BONUS question__ Use the expert DQN from the previous question to generate some winning games. Train a model that mimicks its behavior. Compare the performances."
      ]
    },
    {
      "cell_type": "markdown",
      "metadata": {
        "id": "pZqbj7KDx18_",
        "colab_type": "text"
      },
      "source": [
        "In order to mimic an Expert DQN we'll try to train a DQN with the following two objectives objective:\n",
        "\n",
        "\\begin{equation*}\n",
        "\\mathcal{L}(\\theta)=E_{s' \\sim \\pi^*(.|s,a)}\\Vert r+\\gamma Q(s',arg\\max_{a'} Q^{expert}(s',a'),\\theta)-Q(s,a,\\theta)\\Vert^{2}.\n",
        "\\end{equation*}\n",
        "and \n",
        "\n",
        "\\begin{equation*}\n",
        "\\mathcal{L}(\\theta)=E_{s' \\sim \\pi^*(.|s,a)}\\Vert r+\\gamma\\max_{a'}Q^{expert}(s',a',\\theta)-Q(s,a,\\theta)\\Vert^{2}.\n",
        "\\end{equation*}\n"
      ]
    },
    {
      "cell_type": "code",
      "metadata": {
        "id": "asywteG5ZU72",
        "colab_type": "code",
        "colab": {}
      },
      "source": [
        "class DQN_mim(Agent):\n",
        "    def __init__(self,expert, grid_size,  epsilon = 0.1, memory_size=100, batch_size = 16,n_state=2):\n",
        "        super(DQN_mim, self).__init__(epsilon = epsilon)\n",
        "\n",
        "        # Discount for Q learning\n",
        "        self.discount = 0.99\n",
        "        self.grid_size = grid_size\n",
        "\n",
        "        # number of state\n",
        "        self.n_state = n_state\n",
        "\n",
        "        # Memory\n",
        "        self.memory = Memory(memory_size)\n",
        "        # Batch size when learning\n",
        "        self.batch_size = batch_size\n",
        "        self.expert=expert\n",
        "    def learned_act(self, s):\n",
        "        Q_s=self.model(torch.from_numpy(s).unsqueeze(0).to(device))\n",
        "        best_action=torch.argmax(Q_s[0])\n",
        "        return best_action\n",
        "    def reinforce(self, s_, n_s_, a_, r_, game_over_):\n",
        "\n",
        "        # Two steps: first memorize the states, second learn from the pool\n",
        "        s_, n_s_, a_, r_, game_over_=torch.from_numpy(s_).unsqueeze(0),torch.from_numpy(n_s_).unsqueeze(0),torch.tensor([a_]),torch.tensor([r_]),torch.tensor([game_over_])\n",
        "        self.memory.remember(s_, n_s_, a_, r_, game_over_)\n",
        "        if len(self.memory.memory)<self.batch_size:\n",
        "          return\n",
        "        #Getting batch from Replay Buffer\n",
        "        transitions=self.memory.random_access(self.batch_size)\n",
        "        batch = Transition(*zip(*transitions))\n",
        "        state_batch = torch.cat(batch.state).to(device)\n",
        "        next_batch=torch.cat(batch.next_state).to(device)\n",
        "        action_batch = torch.cat(batch.action).to(device)\n",
        "        reward_batch = torch.cat(batch.reward).to(device)\n",
        "        over_batch=torch.cat(batch.game_over).to(device)\n",
        "        #Updating Params of NN \n",
        "        Q_sa=self.model(state_batch).gather(dim=1,index=action_batch.unsqueeze(1)).squeeze()\n",
        "        #The Difference is that we use the Expert DQN to know which is the best Action \n",
        "        Expected_Q=self.expert.model.predict(next_batch).squeeze()\n",
        "        #Expected_Q=self.model(next_batch).gather(dim=1,index=self.expert.learned_act(next_batch).unsqueeze(1)).squeeze()\n",
        "        target_q = torch.where(over_batch,reward_batch.double(),(Expected_Q * self.discount) + reward_batch).squeeze()\n",
        "        \n",
        "        #Clipping Target\n",
        "        target_q=target_q.clamp(-3,3)\n",
        "        #print(Expected_Q.shape,target_q.shape)\n",
        "        loss = F.mse_loss(Q_sa, target_q)\n",
        "        self.optimizer.zero_grad()\n",
        "        loss.backward()\n",
        "\n",
        "        #Clipping The gradient \n",
        "        for param in self.model.parameters():\n",
        "            param.grad.data.clamp_(-3, 3)\n",
        "        self.optimizer.step()\n",
        "        return loss\n",
        "\n",
        "    def save(self,name_weights='model.h5',name_model='model.json'):\n",
        "        torch.save(self.model.state_dict(),name_weights)\n",
        "        torch.save(self.model,name_model)\n",
        "\n",
        "            \n",
        "    def load(self,name_weights='model.h5',name_model='model.json'):\n",
        "        self.model.load_state_dict(torch.load(name_weights))\n",
        "\n",
        "class DQN_CNN_mim(DQN_mim):\n",
        "    def __init__(self, *args,lr=0.1,**kwargs):\n",
        "        super(DQN_CNN_mim, self).__init__(*args,**kwargs)\n",
        "        self.model = Model_conv(self.n_state).double().to(device)\n",
        "        self.optimizer=optim.Adam(self.model.parameters(),lr=lr)"
      ],
      "execution_count": 0,
      "outputs": []
    },
    {
      "cell_type": "code",
      "metadata": {
        "id": "YVu98H6P2xX8",
        "colab_type": "code",
        "outputId": "e4613bc2-8bbe-45a1-ab5e-74ab22c74e7d",
        "colab": {
          "base_uri": "https://localhost:8080/",
          "height": 1000
        }
      },
      "source": [
        "#Training\n",
        "agent_mim = DQN_CNN_mim(agent_explore,size, lr=.001, epsilon = 0.1, memory_size=2000, batch_size = 32,n_state=3)\n",
        "train(agent_mim, env, 100,prefix='cnn_train_explore')"
      ],
      "execution_count": 26,
      "outputs": [
        {
          "output_type": "stream",
          "text": [
            "Epoch 000/100 | Loss 0.4817 | Win/lose count 6.0/9.0 (-3.0)\n"
          ],
          "name": "stdout"
        },
        {
          "output_type": "stream",
          "text": [
            "/usr/local/lib/python3.6/dist-packages/torch/serialization.py:360: UserWarning: Couldn't retrieve source code for container of type Model_conv. It won't be checked for correctness upon loading.\n",
            "  \"type \" + obj.__name__ + \". It won't be checked \"\n"
          ],
          "name": "stderr"
        },
        {
          "output_type": "stream",
          "text": [
            "Epoch 001/100 | Loss 0.3844 | Win/lose count 9.0/13.0 (-4.0)\n",
            "Epoch 002/100 | Loss 0.3381 | Win/lose count 5.5/10.0 (-4.5)\n",
            "Epoch 003/100 | Loss 0.4779 | Win/lose count 10.5/14.0 (-3.5)\n",
            "Epoch 004/100 | Loss 0.4735 | Win/lose count 10.5/14.0 (-3.5)\n",
            "Epoch 005/100 | Loss 0.3335 | Win/lose count 6.5/8.0 (-1.5)\n",
            "Epoch 006/100 | Loss 0.2589 | Win/lose count 13.5/15.0 (-1.5)\n",
            "Epoch 007/100 | Loss 0.3032 | Win/lose count 7.5/12.0 (-4.5)\n",
            "Epoch 008/100 | Loss 0.2691 | Win/lose count 13.5/7.0 (6.5)\n",
            "Epoch 009/100 | Loss 0.2124 | Win/lose count 7.0/14.0 (-7.0)\n",
            "Epoch 010/100 | Loss 0.2470 | Win/lose count 12.0/5.0 (7.0)\n",
            "Epoch 011/100 | Loss 0.1699 | Win/lose count 8.0/12.0 (-4.0)\n",
            "Epoch 012/100 | Loss 0.2381 | Win/lose count 14.0/23.0 (-9.0)\n",
            "Epoch 013/100 | Loss 0.1738 | Win/lose count 12.0/14.0 (-2.0)\n",
            "Epoch 014/100 | Loss 0.1374 | Win/lose count 14.0/14.0 (0.0)\n",
            "Epoch 015/100 | Loss 0.1792 | Win/lose count 12.0/11.0 (1.0)\n",
            "Epoch 016/100 | Loss 0.1601 | Win/lose count 9.0/7.0 (2.0)\n",
            "Epoch 017/100 | Loss 0.1055 | Win/lose count 10.0/9.0 (1.0)\n",
            "Epoch 018/100 | Loss 0.1098 | Win/lose count 6.5/6.0 (0.5)\n",
            "Epoch 019/100 | Loss 0.1100 | Win/lose count 8.0/8.0 (0.0)\n",
            "Epoch 020/100 | Loss 0.1125 | Win/lose count 10.5/10.0 (0.5)\n",
            "Epoch 021/100 | Loss 0.1055 | Win/lose count 3.5/5.0 (-1.5)\n",
            "Epoch 022/100 | Loss 0.0702 | Win/lose count 4.0/7.0 (-3.0)\n",
            "Epoch 023/100 | Loss 0.2779 | Win/lose count 4.5/9.0 (-4.5)\n",
            "Epoch 024/100 | Loss 0.0459 | Win/lose count 3.5/5.0 (-1.5)\n",
            "Epoch 025/100 | Loss 0.0500 | Win/lose count 3.5/5.0 (-1.5)\n",
            "Epoch 026/100 | Loss 0.0777 | Win/lose count 7.5/5.0 (2.5)\n",
            "Epoch 027/100 | Loss 0.0414 | Win/lose count 10.0/9.0 (1.0)\n",
            "Epoch 028/100 | Loss 0.4441 | Win/lose count 4.5/5.0 (-0.5)\n",
            "Epoch 029/100 | Loss 0.0519 | Win/lose count 14.5/7.0 (7.5)\n",
            "Epoch 030/100 | Loss 0.2221 | Win/lose count 16.0/8.0 (8.0)\n",
            "Epoch 031/100 | Loss 0.0442 | Win/lose count 8.0/5.0 (3.0)\n",
            "Epoch 032/100 | Loss 0.0524 | Win/lose count 7.0/4.0 (3.0)\n",
            "Epoch 033/100 | Loss 0.2463 | Win/lose count 11.5/9.0 (2.5)\n",
            "Epoch 034/100 | Loss 0.0411 | Win/lose count 9.5/2.0 (7.5)\n",
            "Epoch 035/100 | Loss 0.0353 | Win/lose count 10.0/8.0 (2.0)\n",
            "Epoch 036/100 | Loss 0.2346 | Win/lose count 19.0/5.0 (14.0)\n",
            "Epoch 037/100 | Loss 0.0102 | Win/lose count 12.5/6.0 (6.5)\n",
            "Epoch 038/100 | Loss 0.3208 | Win/lose count 10.5/4.0 (6.5)\n",
            "Epoch 039/100 | Loss 0.0555 | Win/lose count 12.0/7.0 (5.0)\n",
            "Epoch 040/100 | Loss 0.5199 | Win/lose count 18.0/13.0 (5.0)\n",
            "Epoch 041/100 | Loss 0.0158 | Win/lose count 17.5/6.0 (11.5)\n",
            "Epoch 042/100 | Loss 0.0211 | Win/lose count 11.5/6.0 (5.5)\n",
            "Epoch 043/100 | Loss 0.0142 | Win/lose count 12.0/6.0 (6.0)\n",
            "Epoch 044/100 | Loss 0.0126 | Win/lose count 17.5/6.0 (11.5)\n",
            "Epoch 045/100 | Loss 0.0246 | Win/lose count 12.0/10.0 (2.0)\n",
            "Epoch 046/100 | Loss 0.2212 | Win/lose count 11.5/7.0 (4.5)\n",
            "Epoch 047/100 | Loss 0.0105 | Win/lose count 15.5/2.0 (13.5)\n",
            "Epoch 048/100 | Loss 0.0293 | Win/lose count 16.5/6.0 (10.5)\n",
            "Epoch 049/100 | Loss 0.0252 | Win/lose count 12.0/5.0 (7.0)\n",
            "Epoch 050/100 | Loss 0.2637 | Win/lose count 19.5/9.0 (10.5)\n",
            "Epoch 051/100 | Loss 0.0387 | Win/lose count 10.5/5.0 (5.5)\n",
            "Epoch 052/100 | Loss 0.0111 | Win/lose count 10.0/5.0 (5.0)\n",
            "Epoch 053/100 | Loss 0.0175 | Win/lose count 9.0/5.0 (4.0)\n",
            "Epoch 054/100 | Loss 0.0135 | Win/lose count 17.0/3.0 (14.0)\n",
            "Epoch 055/100 | Loss 0.0176 | Win/lose count 11.5/3.0 (8.5)\n",
            "Epoch 056/100 | Loss 0.0105 | Win/lose count 19.5/5.0 (14.5)\n",
            "Epoch 057/100 | Loss 0.0124 | Win/lose count 14.0/4.0 (10.0)\n",
            "Epoch 058/100 | Loss 0.0091 | Win/lose count 20.0/2.0 (18.0)\n",
            "Epoch 059/100 | Loss 0.0225 | Win/lose count 18.0/2.0 (16.0)\n",
            "Epoch 060/100 | Loss 0.0128 | Win/lose count 22.0/4.0 (18.0)\n",
            "Epoch 061/100 | Loss 0.0122 | Win/lose count 17.5/12.0 (5.5)\n",
            "Epoch 062/100 | Loss 0.0108 | Win/lose count 17.5/4.0 (13.5)\n",
            "Epoch 063/100 | Loss 0.0198 | Win/lose count 14.5/6.0 (8.5)\n",
            "Epoch 064/100 | Loss 0.0090 | Win/lose count 17.0/6.0 (11.0)\n",
            "Epoch 065/100 | Loss 0.0331 | Win/lose count 13.5/5.0 (8.5)\n",
            "Epoch 066/100 | Loss 0.0130 | Win/lose count 22.5/4.0 (18.5)\n",
            "Epoch 067/100 | Loss 0.0341 | Win/lose count 16.5/6.0 (10.5)\n",
            "Epoch 068/100 | Loss 0.0307 | Win/lose count 13.5/5.0 (8.5)\n",
            "Epoch 069/100 | Loss 0.0677 | Win/lose count 19.0/9.0 (10.0)\n",
            "Epoch 070/100 | Loss 0.0905 | Win/lose count 17.0/1.0 (16.0)\n",
            "Epoch 071/100 | Loss 0.0110 | Win/lose count 13.5/5.0 (8.5)\n",
            "Epoch 072/100 | Loss 0.0556 | Win/lose count 17.0/5.0 (12.0)\n",
            "Epoch 073/100 | Loss 0.0145 | Win/lose count 19.5/4.0 (15.5)\n",
            "Epoch 074/100 | Loss 0.0072 | Win/lose count 19.0/5.0 (14.0)\n",
            "Epoch 075/100 | Loss 0.0064 | Win/lose count 19.0/4.0 (15.0)\n",
            "Epoch 076/100 | Loss 0.0271 | Win/lose count 12.0/6.0 (6.0)\n",
            "Epoch 077/100 | Loss 0.0192 | Win/lose count 19.5/4.0 (15.5)\n",
            "Epoch 078/100 | Loss 0.0424 | Win/lose count 21.0/6.0 (15.0)\n",
            "Epoch 079/100 | Loss 0.0207 | Win/lose count 15.5/1.0 (14.5)\n",
            "Epoch 080/100 | Loss 0.2258 | Win/lose count 6.5/4.0 (2.5)\n",
            "Epoch 081/100 | Loss 0.2525 | Win/lose count 17.5/3.0 (14.5)\n",
            "Epoch 082/100 | Loss 0.0129 | Win/lose count 19.5/4.0 (15.5)\n",
            "Epoch 083/100 | Loss 0.0191 | Win/lose count 17.0/4.0 (13.0)\n",
            "Epoch 084/100 | Loss 0.0173 | Win/lose count 13.5/4.0 (9.5)\n",
            "Epoch 085/100 | Loss 0.0105 | Win/lose count 12.0/4.0 (8.0)\n",
            "Epoch 086/100 | Loss 0.0245 | Win/lose count 7.5/4.0 (3.5)\n",
            "Epoch 087/100 | Loss 0.0245 | Win/lose count 17.5/2.0 (15.5)\n",
            "Epoch 088/100 | Loss 0.0086 | Win/lose count 11.5/6.0 (5.5)\n",
            "Epoch 089/100 | Loss 0.0210 | Win/lose count 17.5/5.0 (12.5)\n",
            "Epoch 090/100 | Loss 0.2270 | Win/lose count 17.5/7.0 (10.5)\n",
            "Epoch 091/100 | Loss 0.2179 | Win/lose count 10.0/8.0 (2.0)\n",
            "Epoch 092/100 | Loss 0.0128 | Win/lose count 18.0/4.0 (14.0)\n",
            "Epoch 093/100 | Loss 0.2345 | Win/lose count 19.0/1.0 (18.0)\n",
            "Epoch 094/100 | Loss 0.0107 | Win/lose count 20.5/2.0 (18.5)\n",
            "Epoch 095/100 | Loss 0.2210 | Win/lose count 12.0/6.0 (6.0)\n",
            "Epoch 096/100 | Loss 0.0049 | Win/lose count 21.0/7.0 (14.0)\n",
            "Epoch 097/100 | Loss 0.0092 | Win/lose count 20.5/5.0 (15.5)\n",
            "Epoch 098/100 | Loss 0.0177 | Win/lose count 12.5/7.0 (5.5)\n",
            "Epoch 099/100 | Loss 0.0091 | Win/lose count 11.5/8.0 (3.5)\n"
          ],
          "name": "stdout"
        }
      ]
    },
    {
      "cell_type": "code",
      "metadata": {
        "id": "BarsFc1f6UQT",
        "colab_type": "code",
        "outputId": "ad3909b0-4ea7-499b-f1d3-eeb2e5a27cb5",
        "colab": {
          "base_uri": "https://localhost:8080/",
          "height": 732
        }
      },
      "source": [
        "# Evaluation\n",
        "print('Test of the CNN')\n",
        "test(agent_explore,env,epochs_test,prefix='cnn_test_explore')\n",
        "HTML(display_videos('cnn_test_explore10.mp4'))\n",
        "\n",
        "print('Test of the Mimic CNN')\n",
        "test(agent_mim,env,epochs_test,prefix='cnn_test_mim')\n",
        "HTML(display_videos('cnn_test_mim10.mp4'))"
      ],
      "execution_count": 27,
      "outputs": [
        {
          "output_type": "stream",
          "text": [
            "Test of the CNN\n",
            "Win/lose count 6.0/2.0. Average score (4.0)\n",
            "Win/lose count 15.5/2.0. Average score (8.75)\n",
            "Win/lose count 7.0/2.0. Average score (7.5)\n",
            "Win/lose count 18.5/2.0. Average score (9.75)\n",
            "Win/lose count 18.5/1.0. Average score (11.3)\n",
            "Win/lose count 5.5/1.0. Average score (10.166666666666666)\n",
            "Win/lose count 5.5/1.0. Average score (9.357142857142858)\n",
            "Win/lose count 11.0/1.0. Average score (9.4375)\n",
            "Win/lose count 22.0/4.0. Average score (10.38888888888889)\n",
            "Win/lose count 19.0/5.0. Average score (10.75)\n",
            "Win/lose count 19.5/4.0. Average score (11.181818181818182)\n",
            "Final score: 11.181818181818182\n",
            "Test of the Mimic CNN\n",
            "Win/lose count 11.5/3.0. Average score (8.5)\n",
            "Win/lose count 7.0/0. Average score (7.75)\n",
            "Win/lose count 10.0/1.0. Average score (8.166666666666666)\n",
            "Win/lose count 2.0/0. Average score (6.625)\n",
            "Win/lose count 7.5/4.0. Average score (6.0)\n",
            "Win/lose count 11.0/1.0. Average score (6.666666666666667)\n",
            "Win/lose count 6.0/1.0. Average score (6.428571428571429)\n",
            "Win/lose count 8.5/2.0. Average score (6.4375)\n",
            "Win/lose count 11.0/2.0. Average score (6.722222222222222)\n",
            "Win/lose count 10.0/1.0. Average score (6.95)\n",
            "Win/lose count 10.5/2.0. Average score (7.090909090909091)\n",
            "Final score: 7.090909090909091\n"
          ],
          "name": "stdout"
        },
        {
          "output_type": "execute_result",
          "data": {
            "text/html": [
              "<video alt=\"test\" controls>\n",
              "                <source src=\"data:video/mp4;base64,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\" type=\"video/mp4\" />\n",
              "             </video>"
            ],
            "text/plain": [
              "<IPython.core.display.HTML object>"
            ]
          },
          "metadata": {
            "tags": []
          },
          "execution_count": 27
        }
      ]
    },
    {
      "cell_type": "markdown",
      "metadata": {
        "id": "t0KrHjni9duI",
        "colab_type": "text"
      },
      "source": [
        "The Mimic DQN can't outperform the expert DQN but it's performance is still better than the one without exploration. : The Student can't beat the master "
      ]
    },
    {
      "cell_type": "markdown",
      "metadata": {
        "colab_type": "text",
        "id": "G67whl3K3d9d"
      },
      "source": [
        "***"
      ]
    }
  ]
}